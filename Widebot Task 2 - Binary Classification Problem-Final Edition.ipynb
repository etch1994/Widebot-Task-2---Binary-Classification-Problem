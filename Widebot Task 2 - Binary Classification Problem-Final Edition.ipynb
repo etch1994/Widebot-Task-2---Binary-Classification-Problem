{
 "cells": [
  {
   "cell_type": "markdown",
   "metadata": {},
   "source": [
    "Ahmed Hisham Elsayed\n",
    "\n",
    "Email: A.HishamElsayed@gmail.com\n",
    "\n",
    "linkedIn: www.linkedin.com/in/etch-7387\n",
    "\n",
    "Websit: https://datawins.wuiltsite.com/\n",
    "\n",
    "Tel: +201096979894"
   ]
  },
  {
   "cell_type": "markdown",
   "metadata": {},
   "source": [
    "# Task 2 - Binary Classification Problem\n",
    " \n",
    "Given the training and validation datasets, http://bit.ly/widebot-new-binclf-data  , Create and train a machine learning model using the training set that performs well on the validation set. You should decide on the metrics of \"performance\" yourself, We will assess your decision.\n",
    " \n",
    "It is up to you to use any of the following languages: [Python, Scala, Java, R]. We appreciate a small write up of the observations and your thoughts to follow your thought process.\n"
   ]
  },
  {
   "cell_type": "markdown",
   "metadata": {},
   "source": [
    "# Dear Reviewer, please read this road map to make it easy and fast for you to take a quick look. for details read the code and the notes on it.\n",
    "\n",
    "### Road map (14 points):\n",
    "1) imported Training data with handling separation.\n",
    "\n",
    "2) Assessed the data-> consist of 2700 rows & 19 columns\n",
    "    11 categorical, 4 integers and 4 floats.\n",
    "    \n",
    "3) Data Cleaning: there are 3210 duplicates, I dropped them \n",
    "   There are missing, I filled some of them by the median, others by the most common records, I dropped a few rows of one        column, and I dropped one column that contained +75% of missings.\n",
    " \n",
    "4) imported Validation data.\n",
    "\n",
    "5) Assessed the data-> consist of 200 rows & 19 columns.\n",
    "\n",
    "6) data cleaning -> there are no duplicates\n",
    "     I handled missing like above.\n",
    "     \n",
    "7) cannot take decision of outliers because I don’t have data documentation.\n",
    "\n",
    "\n",
    "*start modelling\n",
    "\n",
    "8) handle the Target Variable of 'Training'  & Test with Label Encoding.\n",
    "\n",
    "9) Handle Categorical features of both Training and validation set with ‘ONE-HOT-ENCODING’.\n",
    "\n",
    "10) there was a problem(Test and Traning haven’t the same dimension)\n",
    "       This is why I created extra columns in the Test set and filled it with ‘0’ to make them balanced.\n",
    "       \n",
    "11) make Regularization: Apply LASSO to check which variable should be in the model.\n",
    "\n",
    "12) Start Building the Model using RandomForest Algorithm and score the model by ‘mean_absolute_error’ Then apply Cross-Validation(CV = 5)  and I got Mean Absolute Error = 0.16 which is Acceptable.\n",
    "\n",
    "13) I tried to # Start building the model by K Nearest Knighbor 'KNN' but after making hyperparameter tuning to choose the 'K' neighbours and applied Cross-validation and scoring with accuracy’ and cleaning the code with Pipeline I got accuracy = 0.62 which is not good, So the RandomForest Algorithm is the best.\n",
    "\n",
    "14) See the exploratory data analysis here(https://public.tableau.com/profile/ahmed.hisham.el.sayed.mohamed#!/vizhome/WidebotTask2-BinaryClassificationProblem-FinalEdition/Story1?publish=yes)"
   ]
  },
  {
   "cell_type": "markdown",
   "metadata": {},
   "source": [
    "# 1)importing Training Data"
   ]
  },
  {
   "cell_type": "code",
   "execution_count": 1,
   "metadata": {},
   "outputs": [],
   "source": [
    "#import pandas\n",
    "import pandas as pd\n",
    "#data file path\n",
    "data_path1 = \"E:/Widebot/Task 2/training.csv\"\n",
    "#import the CSV(Train) file\n",
    "train = pd.read_csv(data_path1, sep =\";\" , thousands=r',' )"
   ]
  },
  {
   "cell_type": "code",
   "execution_count": 2,
   "metadata": {},
   "outputs": [
    {
     "data": {
      "text/html": [
       "<div>\n",
       "<style scoped>\n",
       "    .dataframe tbody tr th:only-of-type {\n",
       "        vertical-align: middle;\n",
       "    }\n",
       "\n",
       "    .dataframe tbody tr th {\n",
       "        vertical-align: top;\n",
       "    }\n",
       "\n",
       "    .dataframe thead th {\n",
       "        text-align: right;\n",
       "    }\n",
       "</style>\n",
       "<table border=\"1\" class=\"dataframe\">\n",
       "  <thead>\n",
       "    <tr style=\"text-align: right;\">\n",
       "      <th></th>\n",
       "      <th>variable1</th>\n",
       "      <th>variable2</th>\n",
       "      <th>variable3</th>\n",
       "      <th>variable4</th>\n",
       "      <th>variable5</th>\n",
       "      <th>variable6</th>\n",
       "      <th>variable7</th>\n",
       "      <th>variable8</th>\n",
       "      <th>variable9</th>\n",
       "      <th>variable10</th>\n",
       "      <th>variable11</th>\n",
       "      <th>variable12</th>\n",
       "      <th>variable13</th>\n",
       "      <th>variable14</th>\n",
       "      <th>variable15</th>\n",
       "      <th>variable17</th>\n",
       "      <th>variable18</th>\n",
       "      <th>variable19</th>\n",
       "      <th>classLabel</th>\n",
       "    </tr>\n",
       "  </thead>\n",
       "  <tbody>\n",
       "    <tr>\n",
       "      <td>0</td>\n",
       "      <td>a</td>\n",
       "      <td>1792.0</td>\n",
       "      <td>0.00054</td>\n",
       "      <td>u</td>\n",
       "      <td>g</td>\n",
       "      <td>c</td>\n",
       "      <td>v</td>\n",
       "      <td>175</td>\n",
       "      <td>f</td>\n",
       "      <td>t</td>\n",
       "      <td>1</td>\n",
       "      <td>t</td>\n",
       "      <td>g</td>\n",
       "      <td>80.0</td>\n",
       "      <td>5</td>\n",
       "      <td>800000.0</td>\n",
       "      <td>t</td>\n",
       "      <td>0</td>\n",
       "      <td>no.</td>\n",
       "    </tr>\n",
       "    <tr>\n",
       "      <td>1</td>\n",
       "      <td>b</td>\n",
       "      <td>1692.0</td>\n",
       "      <td>0.00335</td>\n",
       "      <td>y</td>\n",
       "      <td>p</td>\n",
       "      <td>k</td>\n",
       "      <td>v</td>\n",
       "      <td>29</td>\n",
       "      <td>f</td>\n",
       "      <td>f</td>\n",
       "      <td>0</td>\n",
       "      <td>f</td>\n",
       "      <td>s</td>\n",
       "      <td>200.0</td>\n",
       "      <td>0</td>\n",
       "      <td>2000000.0</td>\n",
       "      <td>NaN</td>\n",
       "      <td>0</td>\n",
       "      <td>no.</td>\n",
       "    </tr>\n",
       "    <tr>\n",
       "      <td>2</td>\n",
       "      <td>b</td>\n",
       "      <td>3125.0</td>\n",
       "      <td>1125.00000</td>\n",
       "      <td>u</td>\n",
       "      <td>g</td>\n",
       "      <td>ff</td>\n",
       "      <td>ff</td>\n",
       "      <td>0</td>\n",
       "      <td>f</td>\n",
       "      <td>t</td>\n",
       "      <td>1</td>\n",
       "      <td>f</td>\n",
       "      <td>g</td>\n",
       "      <td>96.0</td>\n",
       "      <td>19</td>\n",
       "      <td>960000.0</td>\n",
       "      <td>t</td>\n",
       "      <td>0</td>\n",
       "      <td>no.</td>\n",
       "    </tr>\n",
       "  </tbody>\n",
       "</table>\n",
       "</div>"
      ],
      "text/plain": [
       "  variable1  variable2   variable3 variable4 variable5 variable6 variable7  \\\n",
       "0         a     1792.0     0.00054         u         g         c         v   \n",
       "1         b     1692.0     0.00335         y         p         k         v   \n",
       "2         b     3125.0  1125.00000         u         g        ff        ff   \n",
       "\n",
       "   variable8 variable9 variable10  variable11 variable12 variable13  \\\n",
       "0        175         f          t           1          t          g   \n",
       "1         29         f          f           0          f          s   \n",
       "2          0         f          t           1          f          g   \n",
       "\n",
       "   variable14  variable15  variable17 variable18  variable19 classLabel  \n",
       "0        80.0           5    800000.0          t           0        no.  \n",
       "1       200.0           0   2000000.0        NaN           0        no.  \n",
       "2        96.0          19    960000.0          t           0        no.  "
      ]
     },
     "execution_count": 2,
     "metadata": {},
     "output_type": "execute_result"
    }
   ],
   "source": [
    "train.head(3)"
   ]
  },
  {
   "cell_type": "code",
   "execution_count": 3,
   "metadata": {},
   "outputs": [
    {
     "data": {
      "text/plain": [
       "(3700, 19)"
      ]
     },
     "execution_count": 3,
     "metadata": {},
     "output_type": "execute_result"
    }
   ],
   "source": [
    "train.shape"
   ]
  },
  {
   "cell_type": "markdown",
   "metadata": {},
   "source": [
    "# 3)Assessing Training Data"
   ]
  },
  {
   "cell_type": "code",
   "execution_count": 4,
   "metadata": {},
   "outputs": [
    {
     "name": "stdout",
     "output_type": "stream",
     "text": [
      "<class 'pandas.core.frame.DataFrame'>\n",
      "RangeIndex: 3700 entries, 0 to 3699\n",
      "Data columns (total 19 columns):\n",
      "variable1     3661 non-null object\n",
      "variable2     3661 non-null float64\n",
      "variable3     3700 non-null float64\n",
      "variable4     3636 non-null object\n",
      "variable5     3636 non-null object\n",
      "variable6     3634 non-null object\n",
      "variable7     3634 non-null object\n",
      "variable8     3700 non-null int64\n",
      "variable9     3700 non-null object\n",
      "variable10    3700 non-null object\n",
      "variable11    3700 non-null int64\n",
      "variable12    3700 non-null object\n",
      "variable13    3700 non-null object\n",
      "variable14    3600 non-null float64\n",
      "variable15    3700 non-null int64\n",
      "variable17    3600 non-null float64\n",
      "variable18    1555 non-null object\n",
      "variable19    3700 non-null int64\n",
      "classLabel    3700 non-null object\n",
      "dtypes: float64(4), int64(4), object(11)\n",
      "memory usage: 549.3+ KB\n"
     ]
    }
   ],
   "source": [
    "train.info()"
   ]
  },
  {
   "cell_type": "markdown",
   "metadata": {},
   "source": [
    "there are 11 categoriacl, 4 integer, 4 floats"
   ]
  },
  {
   "cell_type": "code",
   "execution_count": 5,
   "metadata": {},
   "outputs": [
    {
     "data": {
      "text/plain": [
       "variable1       2\n",
       "variable2     288\n",
       "variable3     175\n",
       "variable4       3\n",
       "variable5       3\n",
       "variable6      14\n",
       "variable7       9\n",
       "variable8     108\n",
       "variable9       2\n",
       "variable10      2\n",
       "variable11     23\n",
       "variable12      2\n",
       "variable13      3\n",
       "variable14    136\n",
       "variable15    182\n",
       "variable17    136\n",
       "variable18      2\n",
       "variable19      2\n",
       "classLabel      2\n",
       "dtype: int64"
      ]
     },
     "execution_count": 5,
     "metadata": {},
     "output_type": "execute_result"
    }
   ],
   "source": [
    "train.nunique()"
   ]
  },
  {
   "cell_type": "markdown",
   "metadata": {},
   "source": [
    "# Training Data Cleaning"
   ]
  },
  {
   "cell_type": "code",
   "execution_count": 6,
   "metadata": {},
   "outputs": [
    {
     "data": {
      "text/html": [
       "<div>\n",
       "<style scoped>\n",
       "    .dataframe tbody tr th:only-of-type {\n",
       "        vertical-align: middle;\n",
       "    }\n",
       "\n",
       "    .dataframe tbody tr th {\n",
       "        vertical-align: top;\n",
       "    }\n",
       "\n",
       "    .dataframe thead th {\n",
       "        text-align: right;\n",
       "    }\n",
       "</style>\n",
       "<table border=\"1\" class=\"dataframe\">\n",
       "  <thead>\n",
       "    <tr style=\"text-align: right;\">\n",
       "      <th></th>\n",
       "      <th>variable1</th>\n",
       "      <th>variable2</th>\n",
       "      <th>variable3</th>\n",
       "      <th>variable4</th>\n",
       "      <th>variable5</th>\n",
       "      <th>variable6</th>\n",
       "      <th>variable7</th>\n",
       "      <th>variable8</th>\n",
       "      <th>variable9</th>\n",
       "      <th>variable10</th>\n",
       "      <th>variable11</th>\n",
       "      <th>variable12</th>\n",
       "      <th>variable13</th>\n",
       "      <th>variable14</th>\n",
       "      <th>variable15</th>\n",
       "      <th>variable17</th>\n",
       "      <th>variable18</th>\n",
       "      <th>variable19</th>\n",
       "      <th>classLabel</th>\n",
       "    </tr>\n",
       "  </thead>\n",
       "  <tbody>\n",
       "    <tr>\n",
       "      <td>490</td>\n",
       "      <td>a</td>\n",
       "      <td>4725.0</td>\n",
       "      <td>0.00075</td>\n",
       "      <td>u</td>\n",
       "      <td>g</td>\n",
       "      <td>q</td>\n",
       "      <td>h</td>\n",
       "      <td>275</td>\n",
       "      <td>t</td>\n",
       "      <td>t</td>\n",
       "      <td>1</td>\n",
       "      <td>f</td>\n",
       "      <td>g</td>\n",
       "      <td>333.0</td>\n",
       "      <td>892</td>\n",
       "      <td>3330000.0</td>\n",
       "      <td>NaN</td>\n",
       "      <td>1</td>\n",
       "      <td>yes.</td>\n",
       "    </tr>\n",
       "    <tr>\n",
       "      <td>491</td>\n",
       "      <td>a</td>\n",
       "      <td>3367.0</td>\n",
       "      <td>0.00375</td>\n",
       "      <td>u</td>\n",
       "      <td>g</td>\n",
       "      <td>cc</td>\n",
       "      <td>v</td>\n",
       "      <td>375</td>\n",
       "      <td>f</td>\n",
       "      <td>f</td>\n",
       "      <td>0</td>\n",
       "      <td>f</td>\n",
       "      <td>g</td>\n",
       "      <td>300.0</td>\n",
       "      <td>44</td>\n",
       "      <td>3000000.0</td>\n",
       "      <td>NaN</td>\n",
       "      <td>1</td>\n",
       "      <td>yes.</td>\n",
       "    </tr>\n",
       "    <tr>\n",
       "      <td>492</td>\n",
       "      <td>b</td>\n",
       "      <td>45.0</td>\n",
       "      <td>85.00000</td>\n",
       "      <td>u</td>\n",
       "      <td>g</td>\n",
       "      <td>cc</td>\n",
       "      <td>h</td>\n",
       "      <td>14</td>\n",
       "      <td>t</td>\n",
       "      <td>t</td>\n",
       "      <td>1</td>\n",
       "      <td>t</td>\n",
       "      <td>g</td>\n",
       "      <td>88.0</td>\n",
       "      <td>2000</td>\n",
       "      <td>880000.0</td>\n",
       "      <td>t</td>\n",
       "      <td>1</td>\n",
       "      <td>yes.</td>\n",
       "    </tr>\n",
       "    <tr>\n",
       "      <td>493</td>\n",
       "      <td>b</td>\n",
       "      <td>3317.0</td>\n",
       "      <td>104.00000</td>\n",
       "      <td>u</td>\n",
       "      <td>g</td>\n",
       "      <td>r</td>\n",
       "      <td>h</td>\n",
       "      <td>65</td>\n",
       "      <td>t</td>\n",
       "      <td>f</td>\n",
       "      <td>0</td>\n",
       "      <td>t</td>\n",
       "      <td>g</td>\n",
       "      <td>164.0</td>\n",
       "      <td>31285</td>\n",
       "      <td>1640000.0</td>\n",
       "      <td>NaN</td>\n",
       "      <td>1</td>\n",
       "      <td>yes.</td>\n",
       "    </tr>\n",
       "    <tr>\n",
       "      <td>494</td>\n",
       "      <td>a</td>\n",
       "      <td>25.0</td>\n",
       "      <td>0.00875</td>\n",
       "      <td>u</td>\n",
       "      <td>g</td>\n",
       "      <td>x</td>\n",
       "      <td>h</td>\n",
       "      <td>104</td>\n",
       "      <td>t</td>\n",
       "      <td>f</td>\n",
       "      <td>0</td>\n",
       "      <td>t</td>\n",
       "      <td>g</td>\n",
       "      <td>160.0</td>\n",
       "      <td>5860</td>\n",
       "      <td>1600000.0</td>\n",
       "      <td>f</td>\n",
       "      <td>1</td>\n",
       "      <td>yes.</td>\n",
       "    </tr>\n",
       "    <tr>\n",
       "      <td>...</td>\n",
       "      <td>...</td>\n",
       "      <td>...</td>\n",
       "      <td>...</td>\n",
       "      <td>...</td>\n",
       "      <td>...</td>\n",
       "      <td>...</td>\n",
       "      <td>...</td>\n",
       "      <td>...</td>\n",
       "      <td>...</td>\n",
       "      <td>...</td>\n",
       "      <td>...</td>\n",
       "      <td>...</td>\n",
       "      <td>...</td>\n",
       "      <td>...</td>\n",
       "      <td>...</td>\n",
       "      <td>...</td>\n",
       "      <td>...</td>\n",
       "      <td>...</td>\n",
       "      <td>...</td>\n",
       "    </tr>\n",
       "    <tr>\n",
       "      <td>3695</td>\n",
       "      <td>a</td>\n",
       "      <td>1875.0</td>\n",
       "      <td>75.00000</td>\n",
       "      <td>u</td>\n",
       "      <td>g</td>\n",
       "      <td>q</td>\n",
       "      <td>v</td>\n",
       "      <td>271</td>\n",
       "      <td>t</td>\n",
       "      <td>t</td>\n",
       "      <td>5</td>\n",
       "      <td>f</td>\n",
       "      <td>g</td>\n",
       "      <td>NaN</td>\n",
       "      <td>26726</td>\n",
       "      <td>NaN</td>\n",
       "      <td>t</td>\n",
       "      <td>1</td>\n",
       "      <td>yes.</td>\n",
       "    </tr>\n",
       "    <tr>\n",
       "      <td>3696</td>\n",
       "      <td>a</td>\n",
       "      <td>235.0</td>\n",
       "      <td>0.00090</td>\n",
       "      <td>u</td>\n",
       "      <td>g</td>\n",
       "      <td>q</td>\n",
       "      <td>v</td>\n",
       "      <td>85</td>\n",
       "      <td>t</td>\n",
       "      <td>t</td>\n",
       "      <td>5</td>\n",
       "      <td>t</td>\n",
       "      <td>g</td>\n",
       "      <td>120.0</td>\n",
       "      <td>0</td>\n",
       "      <td>1200000.0</td>\n",
       "      <td>t</td>\n",
       "      <td>1</td>\n",
       "      <td>yes.</td>\n",
       "    </tr>\n",
       "    <tr>\n",
       "      <td>3697</td>\n",
       "      <td>b</td>\n",
       "      <td>3417.0</td>\n",
       "      <td>917.00000</td>\n",
       "      <td>u</td>\n",
       "      <td>g</td>\n",
       "      <td>c</td>\n",
       "      <td>v</td>\n",
       "      <td>45</td>\n",
       "      <td>t</td>\n",
       "      <td>t</td>\n",
       "      <td>12</td>\n",
       "      <td>t</td>\n",
       "      <td>g</td>\n",
       "      <td>0.0</td>\n",
       "      <td>221</td>\n",
       "      <td>0.0</td>\n",
       "      <td>NaN</td>\n",
       "      <td>1</td>\n",
       "      <td>yes.</td>\n",
       "    </tr>\n",
       "    <tr>\n",
       "      <td>3698</td>\n",
       "      <td>b</td>\n",
       "      <td>2783.0</td>\n",
       "      <td>154.00000</td>\n",
       "      <td>u</td>\n",
       "      <td>g</td>\n",
       "      <td>W</td>\n",
       "      <td>v</td>\n",
       "      <td>375</td>\n",
       "      <td>t</td>\n",
       "      <td>t</td>\n",
       "      <td>5</td>\n",
       "      <td>t</td>\n",
       "      <td>g</td>\n",
       "      <td>100.0</td>\n",
       "      <td>3</td>\n",
       "      <td>1000000.0</td>\n",
       "      <td>NaN</td>\n",
       "      <td>1</td>\n",
       "      <td>yes.</td>\n",
       "    </tr>\n",
       "    <tr>\n",
       "      <td>3699</td>\n",
       "      <td>a</td>\n",
       "      <td>3675.0</td>\n",
       "      <td>5125.00000</td>\n",
       "      <td>u</td>\n",
       "      <td>g</td>\n",
       "      <td>e</td>\n",
       "      <td>v</td>\n",
       "      <td>5</td>\n",
       "      <td>t</td>\n",
       "      <td>f</td>\n",
       "      <td>0</td>\n",
       "      <td>t</td>\n",
       "      <td>g</td>\n",
       "      <td>0.0</td>\n",
       "      <td>4000</td>\n",
       "      <td>0.0</td>\n",
       "      <td>f</td>\n",
       "      <td>1</td>\n",
       "      <td>yes.</td>\n",
       "    </tr>\n",
       "  </tbody>\n",
       "</table>\n",
       "<p>3210 rows × 19 columns</p>\n",
       "</div>"
      ],
      "text/plain": [
       "     variable1  variable2   variable3 variable4 variable5 variable6 variable7  \\\n",
       "490          a     4725.0     0.00075         u         g         q         h   \n",
       "491          a     3367.0     0.00375         u         g        cc         v   \n",
       "492          b       45.0    85.00000         u         g        cc         h   \n",
       "493          b     3317.0   104.00000         u         g         r         h   \n",
       "494          a       25.0     0.00875         u         g         x         h   \n",
       "...        ...        ...         ...       ...       ...       ...       ...   \n",
       "3695         a     1875.0    75.00000         u         g         q         v   \n",
       "3696         a      235.0     0.00090         u         g         q         v   \n",
       "3697         b     3417.0   917.00000         u         g         c         v   \n",
       "3698         b     2783.0   154.00000         u         g         W         v   \n",
       "3699         a     3675.0  5125.00000         u         g         e         v   \n",
       "\n",
       "      variable8 variable9 variable10  variable11 variable12 variable13  \\\n",
       "490         275         t          t           1          f          g   \n",
       "491         375         f          f           0          f          g   \n",
       "492          14         t          t           1          t          g   \n",
       "493          65         t          f           0          t          g   \n",
       "494         104         t          f           0          t          g   \n",
       "...         ...       ...        ...         ...        ...        ...   \n",
       "3695        271         t          t           5          f          g   \n",
       "3696         85         t          t           5          t          g   \n",
       "3697         45         t          t          12          t          g   \n",
       "3698        375         t          t           5          t          g   \n",
       "3699          5         t          f           0          t          g   \n",
       "\n",
       "      variable14  variable15  variable17 variable18  variable19 classLabel  \n",
       "490        333.0         892   3330000.0        NaN           1       yes.  \n",
       "491        300.0          44   3000000.0        NaN           1       yes.  \n",
       "492         88.0        2000    880000.0          t           1       yes.  \n",
       "493        164.0       31285   1640000.0        NaN           1       yes.  \n",
       "494        160.0        5860   1600000.0          f           1       yes.  \n",
       "...          ...         ...         ...        ...         ...        ...  \n",
       "3695         NaN       26726         NaN          t           1       yes.  \n",
       "3696       120.0           0   1200000.0          t           1       yes.  \n",
       "3697         0.0         221         0.0        NaN           1       yes.  \n",
       "3698       100.0           3   1000000.0        NaN           1       yes.  \n",
       "3699         0.0        4000         0.0          f           1       yes.  \n",
       "\n",
       "[3210 rows x 19 columns]"
      ]
     },
     "execution_count": 6,
     "metadata": {},
     "output_type": "execute_result"
    }
   ],
   "source": [
    "#check duplicates\n",
    "check_duplicates = train[train.duplicated()]\n",
    "check_duplicates"
   ]
  },
  {
   "cell_type": "markdown",
   "metadata": {},
   "source": [
    "#there are duplicates"
   ]
  },
  {
   "cell_type": "markdown",
   "metadata": {},
   "source": [
    "###### Handle duplicate "
   ]
  },
  {
   "cell_type": "code",
   "execution_count": 7,
   "metadata": {},
   "outputs": [],
   "source": [
    "#drop duplicate if they are\n",
    "train = train.drop_duplicates()"
   ]
  },
  {
   "cell_type": "code",
   "execution_count": 8,
   "metadata": {},
   "outputs": [
    {
     "data": {
      "text/html": [
       "<div>\n",
       "<style scoped>\n",
       "    .dataframe tbody tr th:only-of-type {\n",
       "        vertical-align: middle;\n",
       "    }\n",
       "\n",
       "    .dataframe tbody tr th {\n",
       "        vertical-align: top;\n",
       "    }\n",
       "\n",
       "    .dataframe thead th {\n",
       "        text-align: right;\n",
       "    }\n",
       "</style>\n",
       "<table border=\"1\" class=\"dataframe\">\n",
       "  <thead>\n",
       "    <tr style=\"text-align: right;\">\n",
       "      <th></th>\n",
       "      <th>variable1</th>\n",
       "      <th>variable2</th>\n",
       "      <th>variable3</th>\n",
       "      <th>variable4</th>\n",
       "      <th>variable5</th>\n",
       "      <th>variable6</th>\n",
       "      <th>variable7</th>\n",
       "      <th>variable8</th>\n",
       "      <th>variable9</th>\n",
       "      <th>variable10</th>\n",
       "      <th>variable11</th>\n",
       "      <th>variable12</th>\n",
       "      <th>variable13</th>\n",
       "      <th>variable14</th>\n",
       "      <th>variable15</th>\n",
       "      <th>variable17</th>\n",
       "      <th>variable18</th>\n",
       "      <th>variable19</th>\n",
       "      <th>classLabel</th>\n",
       "    </tr>\n",
       "  </thead>\n",
       "  <tbody>\n",
       "  </tbody>\n",
       "</table>\n",
       "</div>"
      ],
      "text/plain": [
       "Empty DataFrame\n",
       "Columns: [variable1, variable2, variable3, variable4, variable5, variable6, variable7, variable8, variable9, variable10, variable11, variable12, variable13, variable14, variable15, variable17, variable18, variable19, classLabel]\n",
       "Index: []"
      ]
     },
     "execution_count": 8,
     "metadata": {},
     "output_type": "execute_result"
    }
   ],
   "source": [
    "#check..\n",
    "check_duplicates = train[train.duplicated()]\n",
    "check_duplicates"
   ]
  },
  {
   "cell_type": "code",
   "execution_count": 9,
   "metadata": {},
   "outputs": [
    {
     "name": "stdout",
     "output_type": "stream",
     "text": [
      "<class 'pandas.core.frame.DataFrame'>\n",
      "Int64Index: 490 entries, 0 to 489\n",
      "Data columns (total 19 columns):\n",
      "variable1     481 non-null object\n",
      "variable2     481 non-null float64\n",
      "variable3     490 non-null float64\n",
      "variable4     486 non-null object\n",
      "variable5     486 non-null object\n",
      "variable6     484 non-null object\n",
      "variable7     484 non-null object\n",
      "variable8     490 non-null int64\n",
      "variable9     490 non-null object\n",
      "variable10    490 non-null object\n",
      "variable11    490 non-null int64\n",
      "variable12    490 non-null object\n",
      "variable13    490 non-null object\n",
      "variable14    480 non-null float64\n",
      "variable15    490 non-null int64\n",
      "variable17    480 non-null float64\n",
      "variable18    220 non-null object\n",
      "variable19    490 non-null int64\n",
      "classLabel    490 non-null object\n",
      "dtypes: float64(4), int64(4), object(11)\n",
      "memory usage: 76.6+ KB\n"
     ]
    }
   ],
   "source": [
    "train.info()"
   ]
  },
  {
   "cell_type": "code",
   "execution_count": 10,
   "metadata": {},
   "outputs": [
    {
     "data": {
      "text/plain": [
       "0      False\n",
       "1      False\n",
       "2      False\n",
       "3      False\n",
       "4      False\n",
       "       ...  \n",
       "485    False\n",
       "486    False\n",
       "487    False\n",
       "488    False\n",
       "489    False\n",
       "Length: 490, dtype: bool"
      ]
     },
     "execution_count": 10,
     "metadata": {},
     "output_type": "execute_result"
    }
   ],
   "source": [
    "dfnodup = train.duplicated(subset=None, keep='first')\n",
    "dfnodup"
   ]
  },
  {
   "cell_type": "markdown",
   "metadata": {},
   "source": [
    "these Variables have missings\n",
    "\n",
    "variable1     variable2          \n",
    "variable4     variable5     variable6     \n",
    "variable7     variable14    variable17\n",
    "variable18"
   ]
  },
  {
   "cell_type": "markdown",
   "metadata": {},
   "source": [
    "######  handle missings"
   ]
  },
  {
   "cell_type": "code",
   "execution_count": 11,
   "metadata": {},
   "outputs": [],
   "source": [
    "#variable1 has 9 nan"
   ]
  },
  {
   "cell_type": "code",
   "execution_count": 12,
   "metadata": {},
   "outputs": [
    {
     "data": {
      "text/plain": [
       "b      327\n",
       "a      154\n",
       "NaN      9\n",
       "Name: variable1, dtype: int64"
      ]
     },
     "execution_count": 12,
     "metadata": {},
     "output_type": "execute_result"
    }
   ],
   "source": [
    "#let's check the values\n",
    "train['variable1'].value_counts(dropna=False)"
   ]
  },
  {
   "cell_type": "code",
   "execution_count": 13,
   "metadata": {},
   "outputs": [
    {
     "data": {
      "text/plain": [
       "b    336\n",
       "a    154\n",
       "Name: variable1, dtype: int64"
      ]
     },
     "execution_count": 13,
     "metadata": {},
     "output_type": "execute_result"
    }
   ],
   "source": [
    "#handle missing data in 'variable1', fill it by the most commpon which is 'b'\n",
    "train['variable1'] = train['variable1'].fillna('b')\n",
    "#let's check the values\n",
    "train['variable1'].value_counts(dropna=False)"
   ]
  },
  {
   "cell_type": "code",
   "execution_count": 14,
   "metadata": {},
   "outputs": [],
   "source": [
    "#vaariable2"
   ]
  },
  {
   "cell_type": "code",
   "execution_count": 15,
   "metadata": {},
   "outputs": [
    {
     "data": {
      "text/plain": [
       "NaN       9\n",
       "2267.0    7\n",
       "2067.0    6\n",
       "23.0      5\n",
       "2358.0    5\n",
       "         ..\n",
       "425.0     1\n",
       "3858.0    1\n",
       "485.0     1\n",
       "1758.0    1\n",
       "5675.0    1\n",
       "Name: variable2, Length: 289, dtype: int64"
      ]
     },
     "execution_count": 15,
     "metadata": {},
     "output_type": "execute_result"
    }
   ],
   "source": [
    "#let's check the values\n",
    "train['variable2'].value_counts(dropna=False)"
   ]
  },
  {
   "cell_type": "code",
   "execution_count": 16,
   "metadata": {},
   "outputs": [
    {
     "data": {
      "text/plain": [
       "2558.0    10\n",
       "2267.0     7\n",
       "2067.0     6\n",
       "23.0       5\n",
       "2358.0     5\n",
       "          ..\n",
       "3858.0     1\n",
       "485.0      1\n",
       "1758.0     1\n",
       "1692.0     1\n",
       "5675.0     1\n",
       "Name: variable2, Length: 288, dtype: int64"
      ]
     },
     "execution_count": 16,
     "metadata": {},
     "output_type": "execute_result"
    }
   ],
   "source": [
    "#handle missing data in 'num_of_adults', fill it by median\n",
    "variable2_median = train['variable2'].median()\n",
    "# Replace all the missing values in the num_of_adults column with the median\n",
    "train['variable2'] = train['variable2'].fillna(variable2_median)\n",
    "\n",
    "#let's check the values\n",
    "train['variable2'].value_counts(dropna=False)"
   ]
  },
  {
   "cell_type": "code",
   "execution_count": 17,
   "metadata": {},
   "outputs": [],
   "source": [
    "#variable4"
   ]
  },
  {
   "cell_type": "code",
   "execution_count": 18,
   "metadata": {},
   "outputs": [
    {
     "data": {
      "text/plain": [
       "u      370\n",
       "y      114\n",
       "NaN      4\n",
       "l        2\n",
       "Name: variable4, dtype: int64"
      ]
     },
     "execution_count": 18,
     "metadata": {},
     "output_type": "execute_result"
    }
   ],
   "source": [
    "#let's check the values\n",
    "train['variable4'].value_counts(dropna=False)"
   ]
  },
  {
   "cell_type": "code",
   "execution_count": 19,
   "metadata": {},
   "outputs": [],
   "source": [
    "#handle missing data in 'variable1', fill it by the most commpon which is 'b'\n",
    "train['variable4'] = train['variable4'].fillna('u')"
   ]
  },
  {
   "cell_type": "code",
   "execution_count": 20,
   "metadata": {},
   "outputs": [],
   "source": [
    "#variable 5"
   ]
  },
  {
   "cell_type": "code",
   "execution_count": 21,
   "metadata": {},
   "outputs": [
    {
     "data": {
      "text/plain": [
       "g      370\n",
       "p      114\n",
       "NaN      4\n",
       "gg       2\n",
       "Name: variable5, dtype: int64"
      ]
     },
     "execution_count": 21,
     "metadata": {},
     "output_type": "execute_result"
    }
   ],
   "source": [
    "#let's check the values\n",
    "train['variable5'].value_counts(dropna=False)"
   ]
  },
  {
   "cell_type": "code",
   "execution_count": 22,
   "metadata": {},
   "outputs": [],
   "source": [
    "#handle missing data in 'variable5', fill it by the most commpon which is 'g'\n",
    "train['variable5'] = train['variable5'].fillna('g')"
   ]
  },
  {
   "cell_type": "code",
   "execution_count": 23,
   "metadata": {},
   "outputs": [],
   "source": [
    "#variable 6 has 5 nans"
   ]
  },
  {
   "cell_type": "code",
   "execution_count": 24,
   "metadata": {},
   "outputs": [
    {
     "data": {
      "text/plain": [
       "c      97\n",
       "q      57\n",
       "W      48\n",
       "ff     46\n",
       "i      41\n",
       "k      35\n",
       "aa     30\n",
       "m      29\n",
       "cc     28\n",
       "x      25\n",
       "d      19\n",
       "e      17\n",
       "j       9\n",
       "NaN     6\n",
       "r       3\n",
       "Name: variable6, dtype: int64"
      ]
     },
     "execution_count": 24,
     "metadata": {},
     "output_type": "execute_result"
    }
   ],
   "source": [
    "#let's check the values\n",
    "train['variable6'].value_counts(dropna=False)"
   ]
  },
  {
   "cell_type": "code",
   "execution_count": 25,
   "metadata": {},
   "outputs": [],
   "source": [
    "#i will not be able to fill nans here, so i will leave it as it is and drop these NAN rows later"
   ]
  },
  {
   "cell_type": "code",
   "execution_count": 26,
   "metadata": {},
   "outputs": [],
   "source": [
    "#variable 7 "
   ]
  },
  {
   "cell_type": "code",
   "execution_count": 27,
   "metadata": {},
   "outputs": [
    {
     "data": {
      "text/plain": [
       "v      275\n",
       "h      100\n",
       "ff      49\n",
       "bb      39\n",
       "j        7\n",
       "NaN      6\n",
       "dd       5\n",
       "z        4\n",
       "n        3\n",
       "o        2\n",
       "Name: variable7, dtype: int64"
      ]
     },
     "execution_count": 27,
     "metadata": {},
     "output_type": "execute_result"
    }
   ],
   "source": [
    "#let's check the values\n",
    "train['variable7'].value_counts(dropna=False)"
   ]
  },
  {
   "cell_type": "code",
   "execution_count": 28,
   "metadata": {},
   "outputs": [],
   "source": [
    "#handle missing data in 'variable5', fill it by the most commpon which is 'g'\n",
    "train['variable7'] = train['variable7'].fillna('v')"
   ]
  },
  {
   "cell_type": "code",
   "execution_count": 29,
   "metadata": {},
   "outputs": [],
   "source": [
    "#variable 14"
   ]
  },
  {
   "cell_type": "code",
   "execution_count": 30,
   "metadata": {},
   "outputs": [
    {
     "data": {
      "text/plain": [
       "0.0      99\n",
       "200.0    29\n",
       "100.0    24\n",
       "120.0    23\n",
       "160.0    22\n",
       "         ..\n",
       "75.0      1\n",
       "408.0     1\n",
       "500.0     1\n",
       "102.0     1\n",
       "117.0     1\n",
       "Name: variable14, Length: 137, dtype: int64"
      ]
     },
     "execution_count": 30,
     "metadata": {},
     "output_type": "execute_result"
    }
   ],
   "source": [
    "#let's check the values\n",
    "train['variable14'].value_counts(dropna=False)"
   ]
  },
  {
   "cell_type": "code",
   "execution_count": 31,
   "metadata": {},
   "outputs": [],
   "source": [
    "#handle missing data in 'num_of_adults', fill it by median\n",
    "variable14_median = train['variable14'].median()\n",
    "\n",
    "# Replace all the missing values in the num_of_adults column with the median\n",
    "train['variable14'] = train['variable14'].fillna(variable14_median)"
   ]
  },
  {
   "cell_type": "code",
   "execution_count": 32,
   "metadata": {},
   "outputs": [],
   "source": [
    "#variable 17"
   ]
  },
  {
   "cell_type": "code",
   "execution_count": 33,
   "metadata": {},
   "outputs": [
    {
     "data": {
      "text/plain": [
       "0.0          99\n",
       "2000000.0    29\n",
       "1000000.0    24\n",
       "1200000.0    23\n",
       "1600000.0    22\n",
       "             ..\n",
       "5000000.0     1\n",
       "1680000.0     1\n",
       "3950000.0     1\n",
       "4080000.0     1\n",
       "2240000.0     1\n",
       "Name: variable17, Length: 137, dtype: int64"
      ]
     },
     "execution_count": 33,
     "metadata": {},
     "output_type": "execute_result"
    }
   ],
   "source": [
    "#let's check the values\n",
    "train['variable17'].value_counts(dropna=False)"
   ]
  },
  {
   "cell_type": "code",
   "execution_count": 34,
   "metadata": {},
   "outputs": [],
   "source": [
    "#handle missing data in 'num_of_adults', fill it by median\n",
    "variable17_median = train['variable17'].median()\n",
    "\n",
    "# Replace all the missing values in the num_of_adults column with the median\n",
    "train['variable17'] = train['variable17'].fillna(variable17_median)"
   ]
  },
  {
   "cell_type": "code",
   "execution_count": 35,
   "metadata": {},
   "outputs": [],
   "source": [
    "#variable 18"
   ]
  },
  {
   "cell_type": "code",
   "execution_count": 36,
   "metadata": {},
   "outputs": [
    {
     "data": {
      "text/plain": [
       "NaN    270\n",
       "f      127\n",
       "t       93\n",
       "Name: variable18, dtype: int64"
      ]
     },
     "execution_count": 36,
     "metadata": {},
     "output_type": "execute_result"
    }
   ],
   "source": [
    "#let's check the values\n",
    "train['variable18'].value_counts(dropna=False)"
   ]
  },
  {
   "cell_type": "code",
   "execution_count": 37,
   "metadata": {},
   "outputs": [],
   "source": [
    "train = train.drop(['variable18'], axis=1)"
   ]
  },
  {
   "cell_type": "code",
   "execution_count": 38,
   "metadata": {},
   "outputs": [
    {
     "name": "stdout",
     "output_type": "stream",
     "text": [
      "<class 'pandas.core.frame.DataFrame'>\n",
      "Int64Index: 490 entries, 0 to 489\n",
      "Data columns (total 18 columns):\n",
      "variable1     490 non-null object\n",
      "variable2     490 non-null float64\n",
      "variable3     490 non-null float64\n",
      "variable4     490 non-null object\n",
      "variable5     490 non-null object\n",
      "variable6     484 non-null object\n",
      "variable7     490 non-null object\n",
      "variable8     490 non-null int64\n",
      "variable9     490 non-null object\n",
      "variable10    490 non-null object\n",
      "variable11    490 non-null int64\n",
      "variable12    490 non-null object\n",
      "variable13    490 non-null object\n",
      "variable14    490 non-null float64\n",
      "variable15    490 non-null int64\n",
      "variable17    490 non-null float64\n",
      "variable19    490 non-null int64\n",
      "classLabel    490 non-null object\n",
      "dtypes: float64(4), int64(4), object(10)\n",
      "memory usage: 72.7+ KB\n"
     ]
    }
   ],
   "source": [
    "train.info()"
   ]
  },
  {
   "cell_type": "code",
   "execution_count": 39,
   "metadata": {},
   "outputs": [],
   "source": [
    "#drop missing values in the dataset\n",
    "cleaned_train = train.dropna()"
   ]
  },
  {
   "cell_type": "code",
   "execution_count": 40,
   "metadata": {},
   "outputs": [
    {
     "data": {
      "text/html": [
       "<div>\n",
       "<style scoped>\n",
       "    .dataframe tbody tr th:only-of-type {\n",
       "        vertical-align: middle;\n",
       "    }\n",
       "\n",
       "    .dataframe tbody tr th {\n",
       "        vertical-align: top;\n",
       "    }\n",
       "\n",
       "    .dataframe thead th {\n",
       "        text-align: right;\n",
       "    }\n",
       "</style>\n",
       "<table border=\"1\" class=\"dataframe\">\n",
       "  <thead>\n",
       "    <tr style=\"text-align: right;\">\n",
       "      <th></th>\n",
       "      <th>variable1</th>\n",
       "      <th>variable2</th>\n",
       "      <th>variable3</th>\n",
       "      <th>variable4</th>\n",
       "      <th>variable5</th>\n",
       "      <th>variable6</th>\n",
       "      <th>variable7</th>\n",
       "      <th>variable8</th>\n",
       "      <th>variable9</th>\n",
       "      <th>variable10</th>\n",
       "      <th>variable11</th>\n",
       "      <th>variable12</th>\n",
       "      <th>variable13</th>\n",
       "      <th>variable14</th>\n",
       "      <th>variable15</th>\n",
       "      <th>variable17</th>\n",
       "      <th>variable19</th>\n",
       "      <th>classLabel</th>\n",
       "    </tr>\n",
       "  </thead>\n",
       "  <tbody>\n",
       "    <tr>\n",
       "      <td>0</td>\n",
       "      <td>a</td>\n",
       "      <td>1792.0</td>\n",
       "      <td>0.00054</td>\n",
       "      <td>u</td>\n",
       "      <td>g</td>\n",
       "      <td>c</td>\n",
       "      <td>v</td>\n",
       "      <td>175</td>\n",
       "      <td>f</td>\n",
       "      <td>t</td>\n",
       "      <td>1</td>\n",
       "      <td>t</td>\n",
       "      <td>g</td>\n",
       "      <td>80.0</td>\n",
       "      <td>5</td>\n",
       "      <td>800000.0</td>\n",
       "      <td>0</td>\n",
       "      <td>no.</td>\n",
       "    </tr>\n",
       "    <tr>\n",
       "      <td>1</td>\n",
       "      <td>b</td>\n",
       "      <td>1692.0</td>\n",
       "      <td>0.00335</td>\n",
       "      <td>y</td>\n",
       "      <td>p</td>\n",
       "      <td>k</td>\n",
       "      <td>v</td>\n",
       "      <td>29</td>\n",
       "      <td>f</td>\n",
       "      <td>f</td>\n",
       "      <td>0</td>\n",
       "      <td>f</td>\n",
       "      <td>s</td>\n",
       "      <td>200.0</td>\n",
       "      <td>0</td>\n",
       "      <td>2000000.0</td>\n",
       "      <td>0</td>\n",
       "      <td>no.</td>\n",
       "    </tr>\n",
       "    <tr>\n",
       "      <td>2</td>\n",
       "      <td>b</td>\n",
       "      <td>3125.0</td>\n",
       "      <td>1125.00000</td>\n",
       "      <td>u</td>\n",
       "      <td>g</td>\n",
       "      <td>ff</td>\n",
       "      <td>ff</td>\n",
       "      <td>0</td>\n",
       "      <td>f</td>\n",
       "      <td>t</td>\n",
       "      <td>1</td>\n",
       "      <td>f</td>\n",
       "      <td>g</td>\n",
       "      <td>96.0</td>\n",
       "      <td>19</td>\n",
       "      <td>960000.0</td>\n",
       "      <td>0</td>\n",
       "      <td>no.</td>\n",
       "    </tr>\n",
       "    <tr>\n",
       "      <td>3</td>\n",
       "      <td>a</td>\n",
       "      <td>4817.0</td>\n",
       "      <td>1335.00000</td>\n",
       "      <td>u</td>\n",
       "      <td>g</td>\n",
       "      <td>i</td>\n",
       "      <td>o</td>\n",
       "      <td>335</td>\n",
       "      <td>f</td>\n",
       "      <td>f</td>\n",
       "      <td>0</td>\n",
       "      <td>f</td>\n",
       "      <td>g</td>\n",
       "      <td>0.0</td>\n",
       "      <td>120</td>\n",
       "      <td>0.0</td>\n",
       "      <td>0</td>\n",
       "      <td>no.</td>\n",
       "    </tr>\n",
       "    <tr>\n",
       "      <td>4</td>\n",
       "      <td>b</td>\n",
       "      <td>3233.0</td>\n",
       "      <td>35.00000</td>\n",
       "      <td>u</td>\n",
       "      <td>g</td>\n",
       "      <td>k</td>\n",
       "      <td>v</td>\n",
       "      <td>5</td>\n",
       "      <td>f</td>\n",
       "      <td>f</td>\n",
       "      <td>0</td>\n",
       "      <td>t</td>\n",
       "      <td>g</td>\n",
       "      <td>232.0</td>\n",
       "      <td>0</td>\n",
       "      <td>2320000.0</td>\n",
       "      <td>0</td>\n",
       "      <td>no.</td>\n",
       "    </tr>\n",
       "    <tr>\n",
       "      <td>...</td>\n",
       "      <td>...</td>\n",
       "      <td>...</td>\n",
       "      <td>...</td>\n",
       "      <td>...</td>\n",
       "      <td>...</td>\n",
       "      <td>...</td>\n",
       "      <td>...</td>\n",
       "      <td>...</td>\n",
       "      <td>...</td>\n",
       "      <td>...</td>\n",
       "      <td>...</td>\n",
       "      <td>...</td>\n",
       "      <td>...</td>\n",
       "      <td>...</td>\n",
       "      <td>...</td>\n",
       "      <td>...</td>\n",
       "      <td>...</td>\n",
       "      <td>...</td>\n",
       "    </tr>\n",
       "    <tr>\n",
       "      <td>484</td>\n",
       "      <td>a</td>\n",
       "      <td>2267.0</td>\n",
       "      <td>0.00335</td>\n",
       "      <td>u</td>\n",
       "      <td>g</td>\n",
       "      <td>q</td>\n",
       "      <td>v</td>\n",
       "      <td>75</td>\n",
       "      <td>f</td>\n",
       "      <td>f</td>\n",
       "      <td>0</td>\n",
       "      <td>f</td>\n",
       "      <td>s</td>\n",
       "      <td>160.0</td>\n",
       "      <td>0</td>\n",
       "      <td>1600000.0</td>\n",
       "      <td>0</td>\n",
       "      <td>no.</td>\n",
       "    </tr>\n",
       "    <tr>\n",
       "      <td>486</td>\n",
       "      <td>b</td>\n",
       "      <td>3483.0</td>\n",
       "      <td>25.00000</td>\n",
       "      <td>y</td>\n",
       "      <td>p</td>\n",
       "      <td>W</td>\n",
       "      <td>v</td>\n",
       "      <td>3</td>\n",
       "      <td>f</td>\n",
       "      <td>f</td>\n",
       "      <td>0</td>\n",
       "      <td>f</td>\n",
       "      <td>s</td>\n",
       "      <td>200.0</td>\n",
       "      <td>0</td>\n",
       "      <td>2000000.0</td>\n",
       "      <td>0</td>\n",
       "      <td>no.</td>\n",
       "    </tr>\n",
       "    <tr>\n",
       "      <td>487</td>\n",
       "      <td>a</td>\n",
       "      <td>5575.0</td>\n",
       "      <td>708.00000</td>\n",
       "      <td>u</td>\n",
       "      <td>g</td>\n",
       "      <td>k</td>\n",
       "      <td>h</td>\n",
       "      <td>675</td>\n",
       "      <td>t</td>\n",
       "      <td>t</td>\n",
       "      <td>3</td>\n",
       "      <td>t</td>\n",
       "      <td>g</td>\n",
       "      <td>100.0</td>\n",
       "      <td>50</td>\n",
       "      <td>1000000.0</td>\n",
       "      <td>0</td>\n",
       "      <td>no.</td>\n",
       "    </tr>\n",
       "    <tr>\n",
       "      <td>488</td>\n",
       "      <td>b</td>\n",
       "      <td>2217.0</td>\n",
       "      <td>12125.00000</td>\n",
       "      <td>u</td>\n",
       "      <td>g</td>\n",
       "      <td>c</td>\n",
       "      <td>v</td>\n",
       "      <td>3335</td>\n",
       "      <td>f</td>\n",
       "      <td>t</td>\n",
       "      <td>2</td>\n",
       "      <td>t</td>\n",
       "      <td>g</td>\n",
       "      <td>180.0</td>\n",
       "      <td>173</td>\n",
       "      <td>1800000.0</td>\n",
       "      <td>0</td>\n",
       "      <td>no.</td>\n",
       "    </tr>\n",
       "    <tr>\n",
       "      <td>489</td>\n",
       "      <td>b</td>\n",
       "      <td>6275.0</td>\n",
       "      <td>0.00070</td>\n",
       "      <td>u</td>\n",
       "      <td>g</td>\n",
       "      <td>e</td>\n",
       "      <td>z</td>\n",
       "      <td>0</td>\n",
       "      <td>f</td>\n",
       "      <td>f</td>\n",
       "      <td>0</td>\n",
       "      <td>f</td>\n",
       "      <td>g</td>\n",
       "      <td>0.0</td>\n",
       "      <td>12</td>\n",
       "      <td>0.0</td>\n",
       "      <td>0</td>\n",
       "      <td>no.</td>\n",
       "    </tr>\n",
       "  </tbody>\n",
       "</table>\n",
       "<p>484 rows × 18 columns</p>\n",
       "</div>"
      ],
      "text/plain": [
       "    variable1  variable2    variable3 variable4 variable5 variable6 variable7  \\\n",
       "0           a     1792.0      0.00054         u         g         c         v   \n",
       "1           b     1692.0      0.00335         y         p         k         v   \n",
       "2           b     3125.0   1125.00000         u         g        ff        ff   \n",
       "3           a     4817.0   1335.00000         u         g         i         o   \n",
       "4           b     3233.0     35.00000         u         g         k         v   \n",
       "..        ...        ...          ...       ...       ...       ...       ...   \n",
       "484         a     2267.0      0.00335         u         g         q         v   \n",
       "486         b     3483.0     25.00000         y         p         W         v   \n",
       "487         a     5575.0    708.00000         u         g         k         h   \n",
       "488         b     2217.0  12125.00000         u         g         c         v   \n",
       "489         b     6275.0      0.00070         u         g         e         z   \n",
       "\n",
       "     variable8 variable9 variable10  variable11 variable12 variable13  \\\n",
       "0          175         f          t           1          t          g   \n",
       "1           29         f          f           0          f          s   \n",
       "2            0         f          t           1          f          g   \n",
       "3          335         f          f           0          f          g   \n",
       "4            5         f          f           0          t          g   \n",
       "..         ...       ...        ...         ...        ...        ...   \n",
       "484         75         f          f           0          f          s   \n",
       "486          3         f          f           0          f          s   \n",
       "487        675         t          t           3          t          g   \n",
       "488       3335         f          t           2          t          g   \n",
       "489          0         f          f           0          f          g   \n",
       "\n",
       "     variable14  variable15  variable17  variable19 classLabel  \n",
       "0          80.0           5    800000.0           0        no.  \n",
       "1         200.0           0   2000000.0           0        no.  \n",
       "2          96.0          19    960000.0           0        no.  \n",
       "3           0.0         120         0.0           0        no.  \n",
       "4         232.0           0   2320000.0           0        no.  \n",
       "..          ...         ...         ...         ...        ...  \n",
       "484       160.0           0   1600000.0           0        no.  \n",
       "486       200.0           0   2000000.0           0        no.  \n",
       "487       100.0          50   1000000.0           0        no.  \n",
       "488       180.0         173   1800000.0           0        no.  \n",
       "489         0.0          12         0.0           0        no.  \n",
       "\n",
       "[484 rows x 18 columns]"
      ]
     },
     "execution_count": 40,
     "metadata": {},
     "output_type": "execute_result"
    }
   ],
   "source": [
    "cleaned_train"
   ]
  },
  {
   "cell_type": "code",
   "execution_count": 41,
   "metadata": {},
   "outputs": [
    {
     "name": "stdout",
     "output_type": "stream",
     "text": [
      "<class 'pandas.core.frame.DataFrame'>\n",
      "Int64Index: 484 entries, 0 to 489\n",
      "Data columns (total 18 columns):\n",
      "variable1     484 non-null object\n",
      "variable2     484 non-null float64\n",
      "variable3     484 non-null float64\n",
      "variable4     484 non-null object\n",
      "variable5     484 non-null object\n",
      "variable6     484 non-null object\n",
      "variable7     484 non-null object\n",
      "variable8     484 non-null int64\n",
      "variable9     484 non-null object\n",
      "variable10    484 non-null object\n",
      "variable11    484 non-null int64\n",
      "variable12    484 non-null object\n",
      "variable13    484 non-null object\n",
      "variable14    484 non-null float64\n",
      "variable15    484 non-null int64\n",
      "variable17    484 non-null float64\n",
      "variable19    484 non-null int64\n",
      "classLabel    484 non-null object\n",
      "dtypes: float64(4), int64(4), object(10)\n",
      "memory usage: 71.8+ KB\n"
     ]
    }
   ],
   "source": [
    "cleaned_train.info()"
   ]
  },
  {
   "cell_type": "markdown",
   "metadata": {},
   "source": [
    "#data are cleaned now "
   ]
  },
  {
   "cell_type": "code",
   "execution_count": 42,
   "metadata": {},
   "outputs": [],
   "source": [
    "#Save cleaned data in Excel file 'cleaned_train.csv'\n",
    "#cleaned_train.to_csv(r'E:\\Widebot\\Task 2\\cleaned training\\cleaned_train.csv', index = False)"
   ]
  },
  {
   "cell_type": "code",
   "execution_count": null,
   "metadata": {},
   "outputs": [],
   "source": []
  },
  {
   "cell_type": "markdown",
   "metadata": {},
   "source": [
    "# 1)importing Validation Data\n",
    " "
   ]
  },
  {
   "cell_type": "code",
   "execution_count": 43,
   "metadata": {},
   "outputs": [
    {
     "data": {
      "text/html": [
       "<div>\n",
       "<style scoped>\n",
       "    .dataframe tbody tr th:only-of-type {\n",
       "        vertical-align: middle;\n",
       "    }\n",
       "\n",
       "    .dataframe tbody tr th {\n",
       "        vertical-align: top;\n",
       "    }\n",
       "\n",
       "    .dataframe thead th {\n",
       "        text-align: right;\n",
       "    }\n",
       "</style>\n",
       "<table border=\"1\" class=\"dataframe\">\n",
       "  <thead>\n",
       "    <tr style=\"text-align: right;\">\n",
       "      <th></th>\n",
       "      <th>variable1</th>\n",
       "      <th>variable2</th>\n",
       "      <th>variable3</th>\n",
       "      <th>variable4</th>\n",
       "      <th>variable5</th>\n",
       "      <th>variable6</th>\n",
       "      <th>variable7</th>\n",
       "      <th>variable8</th>\n",
       "      <th>variable9</th>\n",
       "      <th>variable10</th>\n",
       "      <th>variable11</th>\n",
       "      <th>variable12</th>\n",
       "      <th>variable13</th>\n",
       "      <th>variable14</th>\n",
       "      <th>variable15</th>\n",
       "      <th>variable17</th>\n",
       "      <th>variable18</th>\n",
       "      <th>variable19</th>\n",
       "      <th>classLabel</th>\n",
       "    </tr>\n",
       "  </thead>\n",
       "  <tbody>\n",
       "    <tr>\n",
       "      <td>0</td>\n",
       "      <td>b</td>\n",
       "      <td>3233.0</td>\n",
       "      <td>75.00000</td>\n",
       "      <td>u</td>\n",
       "      <td>g</td>\n",
       "      <td>e</td>\n",
       "      <td>bb</td>\n",
       "      <td>1585</td>\n",
       "      <td>t</td>\n",
       "      <td>f</td>\n",
       "      <td>0</td>\n",
       "      <td>t</td>\n",
       "      <td>s</td>\n",
       "      <td>420.0</td>\n",
       "      <td>0</td>\n",
       "      <td>4200000.0</td>\n",
       "      <td>NaN</td>\n",
       "      <td>1</td>\n",
       "      <td>no.</td>\n",
       "    </tr>\n",
       "    <tr>\n",
       "      <td>1</td>\n",
       "      <td>b</td>\n",
       "      <td>2358.0</td>\n",
       "      <td>179.00000</td>\n",
       "      <td>u</td>\n",
       "      <td>g</td>\n",
       "      <td>c</td>\n",
       "      <td>v</td>\n",
       "      <td>54</td>\n",
       "      <td>f</td>\n",
       "      <td>f</td>\n",
       "      <td>0</td>\n",
       "      <td>t</td>\n",
       "      <td>g</td>\n",
       "      <td>136.0</td>\n",
       "      <td>1</td>\n",
       "      <td>1360000.0</td>\n",
       "      <td>NaN</td>\n",
       "      <td>0</td>\n",
       "      <td>no.</td>\n",
       "    </tr>\n",
       "    <tr>\n",
       "      <td>2</td>\n",
       "      <td>b</td>\n",
       "      <td>3642.0</td>\n",
       "      <td>0.00075</td>\n",
       "      <td>y</td>\n",
       "      <td>p</td>\n",
       "      <td>d</td>\n",
       "      <td>v</td>\n",
       "      <td>585</td>\n",
       "      <td>f</td>\n",
       "      <td>f</td>\n",
       "      <td>0</td>\n",
       "      <td>f</td>\n",
       "      <td>g</td>\n",
       "      <td>240.0</td>\n",
       "      <td>3</td>\n",
       "      <td>2400000.0</td>\n",
       "      <td>NaN</td>\n",
       "      <td>1</td>\n",
       "      <td>no.</td>\n",
       "    </tr>\n",
       "    <tr>\n",
       "      <td>3</td>\n",
       "      <td>b</td>\n",
       "      <td>1842.0</td>\n",
       "      <td>10415.00000</td>\n",
       "      <td>y</td>\n",
       "      <td>p</td>\n",
       "      <td>aa</td>\n",
       "      <td>v</td>\n",
       "      <td>125</td>\n",
       "      <td>t</td>\n",
       "      <td>f</td>\n",
       "      <td>0</td>\n",
       "      <td>f</td>\n",
       "      <td>g</td>\n",
       "      <td>120.0</td>\n",
       "      <td>375</td>\n",
       "      <td>1200000.0</td>\n",
       "      <td>NaN</td>\n",
       "      <td>0</td>\n",
       "      <td>no.</td>\n",
       "    </tr>\n",
       "    <tr>\n",
       "      <td>4</td>\n",
       "      <td>b</td>\n",
       "      <td>245.0</td>\n",
       "      <td>13335.00000</td>\n",
       "      <td>y</td>\n",
       "      <td>p</td>\n",
       "      <td>aa</td>\n",
       "      <td>v</td>\n",
       "      <td>4</td>\n",
       "      <td>f</td>\n",
       "      <td>f</td>\n",
       "      <td>0</td>\n",
       "      <td>t</td>\n",
       "      <td>g</td>\n",
       "      <td>120.0</td>\n",
       "      <td>475</td>\n",
       "      <td>1200000.0</td>\n",
       "      <td>f</td>\n",
       "      <td>1</td>\n",
       "      <td>no.</td>\n",
       "    </tr>\n",
       "  </tbody>\n",
       "</table>\n",
       "</div>"
      ],
      "text/plain": [
       "  variable1  variable2    variable3 variable4 variable5 variable6 variable7  \\\n",
       "0         b     3233.0     75.00000         u         g         e        bb   \n",
       "1         b     2358.0    179.00000         u         g         c         v   \n",
       "2         b     3642.0      0.00075         y         p         d         v   \n",
       "3         b     1842.0  10415.00000         y         p        aa         v   \n",
       "4         b      245.0  13335.00000         y         p        aa         v   \n",
       "\n",
       "   variable8 variable9 variable10  variable11 variable12 variable13  \\\n",
       "0       1585         t          f           0          t          s   \n",
       "1         54         f          f           0          t          g   \n",
       "2        585         f          f           0          f          g   \n",
       "3        125         t          f           0          f          g   \n",
       "4          4         f          f           0          t          g   \n",
       "\n",
       "   variable14  variable15  variable17 variable18  variable19 classLabel  \n",
       "0       420.0           0   4200000.0        NaN           1        no.  \n",
       "1       136.0           1   1360000.0        NaN           0        no.  \n",
       "2       240.0           3   2400000.0        NaN           1        no.  \n",
       "3       120.0         375   1200000.0        NaN           0        no.  \n",
       "4       120.0         475   1200000.0          f           1        no.  "
      ]
     },
     "execution_count": 43,
     "metadata": {},
     "output_type": "execute_result"
    }
   ],
   "source": [
    "#import the validation data\n",
    "data_path2 = \"E:/Widebot/Task 2/validation.csv\"\n",
    "validation = pd.read_csv(data_path2 , sep =\";\" ,  thousands=r',')\n",
    "validation.head()"
   ]
  },
  {
   "cell_type": "code",
   "execution_count": 44,
   "metadata": {},
   "outputs": [
    {
     "name": "stdout",
     "output_type": "stream",
     "text": [
      "<class 'pandas.core.frame.DataFrame'>\n",
      "RangeIndex: 200 entries, 0 to 199\n",
      "Data columns (total 19 columns):\n",
      "variable1     197 non-null object\n",
      "variable2     197 non-null float64\n",
      "variable3     200 non-null float64\n",
      "variable4     198 non-null object\n",
      "variable5     198 non-null object\n",
      "variable6     197 non-null object\n",
      "variable7     197 non-null object\n",
      "variable8     200 non-null int64\n",
      "variable9     200 non-null object\n",
      "variable10    200 non-null object\n",
      "variable11    200 non-null int64\n",
      "variable12    200 non-null object\n",
      "variable13    200 non-null object\n",
      "variable14    197 non-null float64\n",
      "variable15    200 non-null int64\n",
      "variable17    197 non-null float64\n",
      "variable18    89 non-null object\n",
      "variable19    200 non-null int64\n",
      "classLabel    200 non-null object\n",
      "dtypes: float64(4), int64(4), object(11)\n",
      "memory usage: 29.8+ KB\n"
     ]
    }
   ],
   "source": [
    "validation.info()"
   ]
  },
  {
   "cell_type": "markdown",
   "metadata": {},
   "source": [
    "variabl1, variable2, variable4, variable5, variable6, variable7, variable14, variable17, variable18 have missings"
   ]
  },
  {
   "cell_type": "markdown",
   "metadata": {},
   "source": [
    "# 2) Validation Data Cleaning"
   ]
  },
  {
   "cell_type": "code",
   "execution_count": 45,
   "metadata": {},
   "outputs": [
    {
     "data": {
      "text/html": [
       "<div>\n",
       "<style scoped>\n",
       "    .dataframe tbody tr th:only-of-type {\n",
       "        vertical-align: middle;\n",
       "    }\n",
       "\n",
       "    .dataframe tbody tr th {\n",
       "        vertical-align: top;\n",
       "    }\n",
       "\n",
       "    .dataframe thead th {\n",
       "        text-align: right;\n",
       "    }\n",
       "</style>\n",
       "<table border=\"1\" class=\"dataframe\">\n",
       "  <thead>\n",
       "    <tr style=\"text-align: right;\">\n",
       "      <th></th>\n",
       "      <th>variable1</th>\n",
       "      <th>variable2</th>\n",
       "      <th>variable3</th>\n",
       "      <th>variable4</th>\n",
       "      <th>variable5</th>\n",
       "      <th>variable6</th>\n",
       "      <th>variable7</th>\n",
       "      <th>variable8</th>\n",
       "      <th>variable9</th>\n",
       "      <th>variable10</th>\n",
       "      <th>variable11</th>\n",
       "      <th>variable12</th>\n",
       "      <th>variable13</th>\n",
       "      <th>variable14</th>\n",
       "      <th>variable15</th>\n",
       "      <th>variable17</th>\n",
       "      <th>variable18</th>\n",
       "      <th>variable19</th>\n",
       "      <th>classLabel</th>\n",
       "    </tr>\n",
       "  </thead>\n",
       "  <tbody>\n",
       "  </tbody>\n",
       "</table>\n",
       "</div>"
      ],
      "text/plain": [
       "Empty DataFrame\n",
       "Columns: [variable1, variable2, variable3, variable4, variable5, variable6, variable7, variable8, variable9, variable10, variable11, variable12, variable13, variable14, variable15, variable17, variable18, variable19, classLabel]\n",
       "Index: []"
      ]
     },
     "execution_count": 45,
     "metadata": {},
     "output_type": "execute_result"
    }
   ],
   "source": [
    "#check..\n",
    "check_duplicates2 = validation[validation.duplicated()]\n",
    "check_duplicates2"
   ]
  },
  {
   "cell_type": "code",
   "execution_count": 46,
   "metadata": {},
   "outputs": [],
   "source": [
    "#drop duplicate if they are\n",
    "validation = validation.drop_duplicates()"
   ]
  },
  {
   "cell_type": "markdown",
   "metadata": {},
   "source": [
    "###### handle missings"
   ]
  },
  {
   "cell_type": "code",
   "execution_count": 47,
   "metadata": {},
   "outputs": [],
   "source": [
    "#variable1"
   ]
  },
  {
   "cell_type": "code",
   "execution_count": 48,
   "metadata": {},
   "outputs": [
    {
     "data": {
      "text/plain": [
       "b      141\n",
       "a       56\n",
       "NaN      3\n",
       "Name: variable1, dtype: int64"
      ]
     },
     "execution_count": 48,
     "metadata": {},
     "output_type": "execute_result"
    }
   ],
   "source": [
    "#let's check the values\n",
    "validation['variable1'].value_counts(dropna=False)"
   ]
  },
  {
   "cell_type": "code",
   "execution_count": 49,
   "metadata": {},
   "outputs": [],
   "source": [
    "#handle missing data in 'variable1', fill it by the most commpon which is 'b'\n",
    "validation['variable1'] = validation['variable1'].fillna('b')"
   ]
  },
  {
   "cell_type": "code",
   "execution_count": 50,
   "metadata": {},
   "outputs": [],
   "source": [
    "#variable2"
   ]
  },
  {
   "cell_type": "code",
   "execution_count": 51,
   "metadata": {},
   "outputs": [
    {
     "data": {
      "text/plain": [
       "25.0      4\n",
       "245.0     3\n",
       "NaN       3\n",
       "2042.0    3\n",
       "2725.0    3\n",
       "         ..\n",
       "7483.0    1\n",
       "1733.0    1\n",
       "1942.0    1\n",
       "2292.0    1\n",
       "3233.0    1\n",
       "Name: variable2, Length: 161, dtype: int64"
      ]
     },
     "execution_count": 51,
     "metadata": {},
     "output_type": "execute_result"
    }
   ],
   "source": [
    "#let's check the values\n",
    "validation['variable2'].value_counts(dropna=False)"
   ]
  },
  {
   "cell_type": "code",
   "execution_count": 52,
   "metadata": {},
   "outputs": [],
   "source": [
    "#handle missing data in 'num_of_adults', fill it by median\n",
    "variable2_median = validation['variable2'].median()\n",
    "\n",
    "# Replace all the missing values in the num_of_adults column with the median\n",
    "validation['variable2'] = validation['variable2'].fillna(variable2_median)"
   ]
  },
  {
   "cell_type": "code",
   "execution_count": 53,
   "metadata": {},
   "outputs": [],
   "source": [
    "#variable3"
   ]
  },
  {
   "cell_type": "code",
   "execution_count": 54,
   "metadata": {},
   "outputs": [
    {
     "data": {
      "text/plain": [
       "15.00000       8\n",
       "125.00000      6\n",
       "0.00075        6\n",
       "25.00000       5\n",
       "0.00000        5\n",
       "              ..\n",
       "35.00000       1\n",
       "379.00000      1\n",
       "129.00000      1\n",
       "2229.00000     1\n",
       "11835.00000    1\n",
       "Name: variable3, Length: 111, dtype: int64"
      ]
     },
     "execution_count": 54,
     "metadata": {},
     "output_type": "execute_result"
    }
   ],
   "source": [
    "#let's check the values\n",
    "validation['variable3'].value_counts(dropna=False)"
   ]
  },
  {
   "cell_type": "code",
   "execution_count": 55,
   "metadata": {},
   "outputs": [],
   "source": [
    "#handle missing data in 'num_of_adults', fill it by median\n",
    "variable3_median = validation['variable3'].median()\n",
    "\n",
    "# Replace all the missing values in the num_of_adults column with the median\n",
    "validation['variable3'] = validation['variable3'].fillna(variable3_median)"
   ]
  },
  {
   "cell_type": "code",
   "execution_count": 56,
   "metadata": {},
   "outputs": [],
   "source": [
    "#variable4"
   ]
  },
  {
   "cell_type": "code",
   "execution_count": 57,
   "metadata": {},
   "outputs": [
    {
     "data": {
      "text/plain": [
       "u      149\n",
       "y       49\n",
       "NaN      2\n",
       "Name: variable4, dtype: int64"
      ]
     },
     "execution_count": 57,
     "metadata": {},
     "output_type": "execute_result"
    }
   ],
   "source": [
    "#let's check the values\n",
    "validation['variable4'].value_counts(dropna=False)"
   ]
  },
  {
   "cell_type": "code",
   "execution_count": 58,
   "metadata": {},
   "outputs": [],
   "source": [
    "#handle missing data in 'variable1', fill it by the most commpon which is 'b'\n",
    "validation['variable4'] = validation['variable4'].fillna('u')"
   ]
  },
  {
   "cell_type": "code",
   "execution_count": 59,
   "metadata": {},
   "outputs": [],
   "source": [
    "#variable5"
   ]
  },
  {
   "cell_type": "code",
   "execution_count": 60,
   "metadata": {},
   "outputs": [
    {
     "data": {
      "text/plain": [
       "g      149\n",
       "p       49\n",
       "NaN      2\n",
       "Name: variable5, dtype: int64"
      ]
     },
     "execution_count": 60,
     "metadata": {},
     "output_type": "execute_result"
    }
   ],
   "source": [
    "#let's check the values\n",
    "validation['variable5'].value_counts(dropna=False)"
   ]
  },
  {
   "cell_type": "code",
   "execution_count": 61,
   "metadata": {},
   "outputs": [],
   "source": [
    "#handle missing data in 'variable5', fill it by the most commpon which is 'g'\n",
    "validation['variable5'] = validation['variable5'].fillna('g')"
   ]
  },
  {
   "cell_type": "code",
   "execution_count": 62,
   "metadata": {},
   "outputs": [],
   "source": [
    "#variable6"
   ]
  },
  {
   "cell_type": "code",
   "execution_count": 63,
   "metadata": {},
   "outputs": [
    {
     "data": {
      "text/plain": [
       "c      40\n",
       "aa     24\n",
       "q      21\n",
       "i      18\n",
       "W      16\n",
       "k      16\n",
       "cc     13\n",
       "x      13\n",
       "d      11\n",
       "m       9\n",
       "e       8\n",
       "ff      7\n",
       "NaN     3\n",
       "j       1\n",
       "Name: variable6, dtype: int64"
      ]
     },
     "execution_count": 63,
     "metadata": {},
     "output_type": "execute_result"
    }
   ],
   "source": [
    "#let's check the values\n",
    "validation['variable6'].value_counts(dropna=False)"
   ]
  },
  {
   "cell_type": "code",
   "execution_count": 64,
   "metadata": {},
   "outputs": [],
   "source": [
    "#handle missing data in 'variable5', i will not be able to fill nans here, so i will leave it as it is and drop these NANs later"
   ]
  },
  {
   "cell_type": "code",
   "execution_count": 65,
   "metadata": {},
   "outputs": [],
   "source": [
    "#variable7"
   ]
  },
  {
   "cell_type": "code",
   "execution_count": 66,
   "metadata": {},
   "outputs": [
    {
     "data": {
      "text/plain": [
       "v      124\n",
       "h       38\n",
       "bb      20\n",
       "ff       8\n",
       "z        4\n",
       "NaN      3\n",
       "dd       1\n",
       "j        1\n",
       "n        1\n",
       "Name: variable7, dtype: int64"
      ]
     },
     "execution_count": 66,
     "metadata": {},
     "output_type": "execute_result"
    }
   ],
   "source": [
    "#let's check the values\n",
    "validation['variable7'].value_counts(dropna=False)"
   ]
  },
  {
   "cell_type": "code",
   "execution_count": 67,
   "metadata": {},
   "outputs": [],
   "source": [
    "#handle missing data in 'variable5', fill it by the most commpon which is 'g'\n",
    "validation['variable7'] = validation['variable7'].fillna('v')"
   ]
  },
  {
   "cell_type": "code",
   "execution_count": 68,
   "metadata": {},
   "outputs": [],
   "source": [
    "#variable14"
   ]
  },
  {
   "cell_type": "code",
   "execution_count": 69,
   "metadata": {},
   "outputs": [
    {
     "data": {
      "text/plain": [
       "0.0      33\n",
       "160.0    12\n",
       "120.0    12\n",
       "80.0     10\n",
       "180.0     8\n",
       "         ..\n",
       "70.0      1\n",
       "99.0      1\n",
       "410.0     1\n",
       "253.0     1\n",
       "420.0     1\n",
       "Name: variable14, Length: 80, dtype: int64"
      ]
     },
     "execution_count": 69,
     "metadata": {},
     "output_type": "execute_result"
    }
   ],
   "source": [
    "#let's check the values\n",
    "validation['variable14'].value_counts(dropna=False)"
   ]
  },
  {
   "cell_type": "code",
   "execution_count": 70,
   "metadata": {},
   "outputs": [],
   "source": [
    "#handle missing data in 'num_of_adults', fill it by median\n",
    "variable14_median = validation['variable14'].median()\n",
    "\n",
    "# Replace all the missing values in the num_of_adults column with the median\n",
    "validation['variable14'] = validation['variable14'].fillna(variable14_median)"
   ]
  },
  {
   "cell_type": "code",
   "execution_count": null,
   "metadata": {},
   "outputs": [],
   "source": []
  },
  {
   "cell_type": "code",
   "execution_count": 71,
   "metadata": {},
   "outputs": [
    {
     "data": {
      "text/plain": [
       "0.0          33\n",
       "1200000.0    12\n",
       "1600000.0    12\n",
       "800000.0     10\n",
       "600000.0      8\n",
       "             ..\n",
       "2200000.0     1\n",
       "4220000.0     1\n",
       "4000000.0     1\n",
       "1290000.0     1\n",
       "3600000.0     1\n",
       "Name: variable17, Length: 80, dtype: int64"
      ]
     },
     "execution_count": 71,
     "metadata": {},
     "output_type": "execute_result"
    }
   ],
   "source": [
    "#let's check the values\n",
    "validation['variable17'].value_counts(dropna=False)"
   ]
  },
  {
   "cell_type": "code",
   "execution_count": 72,
   "metadata": {},
   "outputs": [],
   "source": [
    "#handle missing data in 'num_of_adults', fill it by median\n",
    "variable17_median = validation['variable17'].median()\n",
    "\n",
    "# Replace all the missing values in the num_of_adults column with the median\n",
    "validation['variable17'] = validation['variable17'].fillna(variable17_median)"
   ]
  },
  {
   "cell_type": "code",
   "execution_count": 73,
   "metadata": {},
   "outputs": [],
   "source": [
    "#variable18"
   ]
  },
  {
   "cell_type": "code",
   "execution_count": 74,
   "metadata": {},
   "outputs": [],
   "source": [
    "#let's check the values\n",
    "validation = validation.drop(['variable18'], axis=1)"
   ]
  },
  {
   "cell_type": "code",
   "execution_count": 75,
   "metadata": {},
   "outputs": [],
   "source": [
    "#handle missing data in 'variable5', fill it by the most commpon which is 'g'\n",
    "#validation['variable18'] = validation['variable18'].fillna('ft')"
   ]
  },
  {
   "cell_type": "code",
   "execution_count": 76,
   "metadata": {},
   "outputs": [
    {
     "name": "stdout",
     "output_type": "stream",
     "text": [
      "<class 'pandas.core.frame.DataFrame'>\n",
      "Int64Index: 200 entries, 0 to 199\n",
      "Data columns (total 18 columns):\n",
      "variable1     200 non-null object\n",
      "variable2     200 non-null float64\n",
      "variable3     200 non-null float64\n",
      "variable4     200 non-null object\n",
      "variable5     200 non-null object\n",
      "variable6     197 non-null object\n",
      "variable7     200 non-null object\n",
      "variable8     200 non-null int64\n",
      "variable9     200 non-null object\n",
      "variable10    200 non-null object\n",
      "variable11    200 non-null int64\n",
      "variable12    200 non-null object\n",
      "variable13    200 non-null object\n",
      "variable14    200 non-null float64\n",
      "variable15    200 non-null int64\n",
      "variable17    200 non-null float64\n",
      "variable19    200 non-null int64\n",
      "classLabel    200 non-null object\n",
      "dtypes: float64(4), int64(4), object(10)\n",
      "memory usage: 29.7+ KB\n"
     ]
    }
   ],
   "source": [
    "validation.info()"
   ]
  },
  {
   "cell_type": "code",
   "execution_count": 77,
   "metadata": {},
   "outputs": [],
   "source": [
    "#drop rows contain missings"
   ]
  },
  {
   "cell_type": "code",
   "execution_count": 78,
   "metadata": {},
   "outputs": [],
   "source": [
    "cleaned_validation = validation.dropna()"
   ]
  },
  {
   "cell_type": "code",
   "execution_count": 79,
   "metadata": {},
   "outputs": [
    {
     "data": {
      "text/html": [
       "<div>\n",
       "<style scoped>\n",
       "    .dataframe tbody tr th:only-of-type {\n",
       "        vertical-align: middle;\n",
       "    }\n",
       "\n",
       "    .dataframe tbody tr th {\n",
       "        vertical-align: top;\n",
       "    }\n",
       "\n",
       "    .dataframe thead th {\n",
       "        text-align: right;\n",
       "    }\n",
       "</style>\n",
       "<table border=\"1\" class=\"dataframe\">\n",
       "  <thead>\n",
       "    <tr style=\"text-align: right;\">\n",
       "      <th></th>\n",
       "      <th>variable1</th>\n",
       "      <th>variable2</th>\n",
       "      <th>variable3</th>\n",
       "      <th>variable4</th>\n",
       "      <th>variable5</th>\n",
       "      <th>variable6</th>\n",
       "      <th>variable7</th>\n",
       "      <th>variable8</th>\n",
       "      <th>variable9</th>\n",
       "      <th>variable10</th>\n",
       "      <th>variable11</th>\n",
       "      <th>variable12</th>\n",
       "      <th>variable13</th>\n",
       "      <th>variable14</th>\n",
       "      <th>variable15</th>\n",
       "      <th>variable17</th>\n",
       "      <th>variable19</th>\n",
       "      <th>classLabel</th>\n",
       "    </tr>\n",
       "  </thead>\n",
       "  <tbody>\n",
       "    <tr>\n",
       "      <td>0</td>\n",
       "      <td>b</td>\n",
       "      <td>3233.0</td>\n",
       "      <td>75.00000</td>\n",
       "      <td>u</td>\n",
       "      <td>g</td>\n",
       "      <td>e</td>\n",
       "      <td>bb</td>\n",
       "      <td>1585</td>\n",
       "      <td>t</td>\n",
       "      <td>f</td>\n",
       "      <td>0</td>\n",
       "      <td>t</td>\n",
       "      <td>s</td>\n",
       "      <td>420.0</td>\n",
       "      <td>0</td>\n",
       "      <td>4200000.0</td>\n",
       "      <td>1</td>\n",
       "      <td>no.</td>\n",
       "    </tr>\n",
       "    <tr>\n",
       "      <td>1</td>\n",
       "      <td>b</td>\n",
       "      <td>2358.0</td>\n",
       "      <td>179.00000</td>\n",
       "      <td>u</td>\n",
       "      <td>g</td>\n",
       "      <td>c</td>\n",
       "      <td>v</td>\n",
       "      <td>54</td>\n",
       "      <td>f</td>\n",
       "      <td>f</td>\n",
       "      <td>0</td>\n",
       "      <td>t</td>\n",
       "      <td>g</td>\n",
       "      <td>136.0</td>\n",
       "      <td>1</td>\n",
       "      <td>1360000.0</td>\n",
       "      <td>0</td>\n",
       "      <td>no.</td>\n",
       "    </tr>\n",
       "    <tr>\n",
       "      <td>2</td>\n",
       "      <td>b</td>\n",
       "      <td>3642.0</td>\n",
       "      <td>0.00075</td>\n",
       "      <td>y</td>\n",
       "      <td>p</td>\n",
       "      <td>d</td>\n",
       "      <td>v</td>\n",
       "      <td>585</td>\n",
       "      <td>f</td>\n",
       "      <td>f</td>\n",
       "      <td>0</td>\n",
       "      <td>f</td>\n",
       "      <td>g</td>\n",
       "      <td>240.0</td>\n",
       "      <td>3</td>\n",
       "      <td>2400000.0</td>\n",
       "      <td>1</td>\n",
       "      <td>no.</td>\n",
       "    </tr>\n",
       "    <tr>\n",
       "      <td>3</td>\n",
       "      <td>b</td>\n",
       "      <td>1842.0</td>\n",
       "      <td>10415.00000</td>\n",
       "      <td>y</td>\n",
       "      <td>p</td>\n",
       "      <td>aa</td>\n",
       "      <td>v</td>\n",
       "      <td>125</td>\n",
       "      <td>t</td>\n",
       "      <td>f</td>\n",
       "      <td>0</td>\n",
       "      <td>f</td>\n",
       "      <td>g</td>\n",
       "      <td>120.0</td>\n",
       "      <td>375</td>\n",
       "      <td>1200000.0</td>\n",
       "      <td>0</td>\n",
       "      <td>no.</td>\n",
       "    </tr>\n",
       "    <tr>\n",
       "      <td>4</td>\n",
       "      <td>b</td>\n",
       "      <td>245.0</td>\n",
       "      <td>13335.00000</td>\n",
       "      <td>y</td>\n",
       "      <td>p</td>\n",
       "      <td>aa</td>\n",
       "      <td>v</td>\n",
       "      <td>4</td>\n",
       "      <td>f</td>\n",
       "      <td>f</td>\n",
       "      <td>0</td>\n",
       "      <td>t</td>\n",
       "      <td>g</td>\n",
       "      <td>120.0</td>\n",
       "      <td>475</td>\n",
       "      <td>1200000.0</td>\n",
       "      <td>1</td>\n",
       "      <td>no.</td>\n",
       "    </tr>\n",
       "    <tr>\n",
       "      <td>...</td>\n",
       "      <td>...</td>\n",
       "      <td>...</td>\n",
       "      <td>...</td>\n",
       "      <td>...</td>\n",
       "      <td>...</td>\n",
       "      <td>...</td>\n",
       "      <td>...</td>\n",
       "      <td>...</td>\n",
       "      <td>...</td>\n",
       "      <td>...</td>\n",
       "      <td>...</td>\n",
       "      <td>...</td>\n",
       "      <td>...</td>\n",
       "      <td>...</td>\n",
       "      <td>...</td>\n",
       "      <td>...</td>\n",
       "      <td>...</td>\n",
       "      <td>...</td>\n",
       "    </tr>\n",
       "    <tr>\n",
       "      <td>195</td>\n",
       "      <td>b</td>\n",
       "      <td>2308.0</td>\n",
       "      <td>115.00000</td>\n",
       "      <td>u</td>\n",
       "      <td>g</td>\n",
       "      <td>i</td>\n",
       "      <td>v</td>\n",
       "      <td>35</td>\n",
       "      <td>t</td>\n",
       "      <td>t</td>\n",
       "      <td>9</td>\n",
       "      <td>f</td>\n",
       "      <td>g</td>\n",
       "      <td>56.0</td>\n",
       "      <td>742</td>\n",
       "      <td>560000.0</td>\n",
       "      <td>0</td>\n",
       "      <td>yes.</td>\n",
       "    </tr>\n",
       "    <tr>\n",
       "      <td>196</td>\n",
       "      <td>a</td>\n",
       "      <td>5708.0</td>\n",
       "      <td>195.00000</td>\n",
       "      <td>u</td>\n",
       "      <td>g</td>\n",
       "      <td>c</td>\n",
       "      <td>v</td>\n",
       "      <td>55</td>\n",
       "      <td>t</td>\n",
       "      <td>t</td>\n",
       "      <td>7</td>\n",
       "      <td>f</td>\n",
       "      <td>g</td>\n",
       "      <td>0.0</td>\n",
       "      <td>3000</td>\n",
       "      <td>0.0</td>\n",
       "      <td>1</td>\n",
       "      <td>yes.</td>\n",
       "    </tr>\n",
       "    <tr>\n",
       "      <td>197</td>\n",
       "      <td>b</td>\n",
       "      <td>3083.0</td>\n",
       "      <td>0.00000</td>\n",
       "      <td>u</td>\n",
       "      <td>g</td>\n",
       "      <td>W</td>\n",
       "      <td>v</td>\n",
       "      <td>125</td>\n",
       "      <td>t</td>\n",
       "      <td>t</td>\n",
       "      <td>1</td>\n",
       "      <td>f</td>\n",
       "      <td>g</td>\n",
       "      <td>202.0</td>\n",
       "      <td>0</td>\n",
       "      <td>2020000.0</td>\n",
       "      <td>0</td>\n",
       "      <td>yes.</td>\n",
       "    </tr>\n",
       "    <tr>\n",
       "      <td>198</td>\n",
       "      <td>b</td>\n",
       "      <td>1967.0</td>\n",
       "      <td>0.00375</td>\n",
       "      <td>u</td>\n",
       "      <td>g</td>\n",
       "      <td>q</td>\n",
       "      <td>v</td>\n",
       "      <td>2</td>\n",
       "      <td>t</td>\n",
       "      <td>t</td>\n",
       "      <td>2</td>\n",
       "      <td>t</td>\n",
       "      <td>g</td>\n",
       "      <td>80.0</td>\n",
       "      <td>0</td>\n",
       "      <td>800000.0</td>\n",
       "      <td>1</td>\n",
       "      <td>yes.</td>\n",
       "    </tr>\n",
       "    <tr>\n",
       "      <td>199</td>\n",
       "      <td>b</td>\n",
       "      <td>3017.0</td>\n",
       "      <td>65.00000</td>\n",
       "      <td>u</td>\n",
       "      <td>g</td>\n",
       "      <td>cc</td>\n",
       "      <td>v</td>\n",
       "      <td>3125</td>\n",
       "      <td>t</td>\n",
       "      <td>t</td>\n",
       "      <td>8</td>\n",
       "      <td>f</td>\n",
       "      <td>g</td>\n",
       "      <td>330.0</td>\n",
       "      <td>1200</td>\n",
       "      <td>3300000.0</td>\n",
       "      <td>0</td>\n",
       "      <td>yes.</td>\n",
       "    </tr>\n",
       "  </tbody>\n",
       "</table>\n",
       "<p>197 rows × 18 columns</p>\n",
       "</div>"
      ],
      "text/plain": [
       "    variable1  variable2    variable3 variable4 variable5 variable6 variable7  \\\n",
       "0           b     3233.0     75.00000         u         g         e        bb   \n",
       "1           b     2358.0    179.00000         u         g         c         v   \n",
       "2           b     3642.0      0.00075         y         p         d         v   \n",
       "3           b     1842.0  10415.00000         y         p        aa         v   \n",
       "4           b      245.0  13335.00000         y         p        aa         v   \n",
       "..        ...        ...          ...       ...       ...       ...       ...   \n",
       "195         b     2308.0    115.00000         u         g         i         v   \n",
       "196         a     5708.0    195.00000         u         g         c         v   \n",
       "197         b     3083.0      0.00000         u         g         W         v   \n",
       "198         b     1967.0      0.00375         u         g         q         v   \n",
       "199         b     3017.0     65.00000         u         g        cc         v   \n",
       "\n",
       "     variable8 variable9 variable10  variable11 variable12 variable13  \\\n",
       "0         1585         t          f           0          t          s   \n",
       "1           54         f          f           0          t          g   \n",
       "2          585         f          f           0          f          g   \n",
       "3          125         t          f           0          f          g   \n",
       "4            4         f          f           0          t          g   \n",
       "..         ...       ...        ...         ...        ...        ...   \n",
       "195         35         t          t           9          f          g   \n",
       "196         55         t          t           7          f          g   \n",
       "197        125         t          t           1          f          g   \n",
       "198          2         t          t           2          t          g   \n",
       "199       3125         t          t           8          f          g   \n",
       "\n",
       "     variable14  variable15  variable17  variable19 classLabel  \n",
       "0         420.0           0   4200000.0           1        no.  \n",
       "1         136.0           1   1360000.0           0        no.  \n",
       "2         240.0           3   2400000.0           1        no.  \n",
       "3         120.0         375   1200000.0           0        no.  \n",
       "4         120.0         475   1200000.0           1        no.  \n",
       "..          ...         ...         ...         ...        ...  \n",
       "195        56.0         742    560000.0           0       yes.  \n",
       "196         0.0        3000         0.0           1       yes.  \n",
       "197       202.0           0   2020000.0           0       yes.  \n",
       "198        80.0           0    800000.0           1       yes.  \n",
       "199       330.0        1200   3300000.0           0       yes.  \n",
       "\n",
       "[197 rows x 18 columns]"
      ]
     },
     "execution_count": 79,
     "metadata": {},
     "output_type": "execute_result"
    }
   ],
   "source": [
    "cleaned_validation"
   ]
  },
  {
   "cell_type": "code",
   "execution_count": 80,
   "metadata": {},
   "outputs": [
    {
     "name": "stdout",
     "output_type": "stream",
     "text": [
      "<class 'pandas.core.frame.DataFrame'>\n",
      "Int64Index: 197 entries, 0 to 199\n",
      "Data columns (total 18 columns):\n",
      "variable1     197 non-null object\n",
      "variable2     197 non-null float64\n",
      "variable3     197 non-null float64\n",
      "variable4     197 non-null object\n",
      "variable5     197 non-null object\n",
      "variable6     197 non-null object\n",
      "variable7     197 non-null object\n",
      "variable8     197 non-null int64\n",
      "variable9     197 non-null object\n",
      "variable10    197 non-null object\n",
      "variable11    197 non-null int64\n",
      "variable12    197 non-null object\n",
      "variable13    197 non-null object\n",
      "variable14    197 non-null float64\n",
      "variable15    197 non-null int64\n",
      "variable17    197 non-null float64\n",
      "variable19    197 non-null int64\n",
      "classLabel    197 non-null object\n",
      "dtypes: float64(4), int64(4), object(10)\n",
      "memory usage: 29.2+ KB\n"
     ]
    }
   ],
   "source": [
    "cleaned_validation.info()"
   ]
  },
  {
   "cell_type": "code",
   "execution_count": null,
   "metadata": {},
   "outputs": [],
   "source": []
  },
  {
   "cell_type": "code",
   "execution_count": 81,
   "metadata": {},
   "outputs": [],
   "source": [
    "#Save cleaned data in Excel file 'cleaned_train.csv'\n",
    "#cleaned_validation.to_csv(r'E:\\Widebot\\Task 2\\cleaned validation\\cleaned_validation.csv', index = False)"
   ]
  },
  {
   "cell_type": "code",
   "execution_count": null,
   "metadata": {},
   "outputs": [],
   "source": []
  },
  {
   "cell_type": "markdown",
   "metadata": {},
   "source": [
    "# Modeling"
   ]
  },
  {
   "cell_type": "markdown",
   "metadata": {},
   "source": [
    "## handle the Target Variable of 'Training'"
   ]
  },
  {
   "cell_type": "code",
   "execution_count": 82,
   "metadata": {},
   "outputs": [
    {
     "data": {
      "text/html": [
       "<div>\n",
       "<style scoped>\n",
       "    .dataframe tbody tr th:only-of-type {\n",
       "        vertical-align: middle;\n",
       "    }\n",
       "\n",
       "    .dataframe tbody tr th {\n",
       "        vertical-align: top;\n",
       "    }\n",
       "\n",
       "    .dataframe thead th {\n",
       "        text-align: right;\n",
       "    }\n",
       "</style>\n",
       "<table border=\"1\" class=\"dataframe\">\n",
       "  <thead>\n",
       "    <tr style=\"text-align: right;\">\n",
       "      <th></th>\n",
       "      <th>variable1</th>\n",
       "      <th>variable2</th>\n",
       "      <th>variable3</th>\n",
       "      <th>variable4</th>\n",
       "      <th>variable5</th>\n",
       "      <th>variable6</th>\n",
       "      <th>variable7</th>\n",
       "      <th>variable8</th>\n",
       "      <th>variable9</th>\n",
       "      <th>variable10</th>\n",
       "      <th>variable11</th>\n",
       "      <th>variable12</th>\n",
       "      <th>variable13</th>\n",
       "      <th>variable14</th>\n",
       "      <th>variable15</th>\n",
       "      <th>variable17</th>\n",
       "      <th>variable19</th>\n",
       "      <th>classLabel</th>\n",
       "    </tr>\n",
       "  </thead>\n",
       "  <tbody>\n",
       "    <tr>\n",
       "      <td>0</td>\n",
       "      <td>a</td>\n",
       "      <td>1792.0</td>\n",
       "      <td>0.00054</td>\n",
       "      <td>u</td>\n",
       "      <td>g</td>\n",
       "      <td>c</td>\n",
       "      <td>v</td>\n",
       "      <td>175</td>\n",
       "      <td>f</td>\n",
       "      <td>t</td>\n",
       "      <td>1</td>\n",
       "      <td>t</td>\n",
       "      <td>g</td>\n",
       "      <td>80.0</td>\n",
       "      <td>5</td>\n",
       "      <td>800000.0</td>\n",
       "      <td>0</td>\n",
       "      <td>no.</td>\n",
       "    </tr>\n",
       "    <tr>\n",
       "      <td>1</td>\n",
       "      <td>b</td>\n",
       "      <td>1692.0</td>\n",
       "      <td>0.00335</td>\n",
       "      <td>y</td>\n",
       "      <td>p</td>\n",
       "      <td>k</td>\n",
       "      <td>v</td>\n",
       "      <td>29</td>\n",
       "      <td>f</td>\n",
       "      <td>f</td>\n",
       "      <td>0</td>\n",
       "      <td>f</td>\n",
       "      <td>s</td>\n",
       "      <td>200.0</td>\n",
       "      <td>0</td>\n",
       "      <td>2000000.0</td>\n",
       "      <td>0</td>\n",
       "      <td>no.</td>\n",
       "    </tr>\n",
       "    <tr>\n",
       "      <td>2</td>\n",
       "      <td>b</td>\n",
       "      <td>3125.0</td>\n",
       "      <td>1125.00000</td>\n",
       "      <td>u</td>\n",
       "      <td>g</td>\n",
       "      <td>ff</td>\n",
       "      <td>ff</td>\n",
       "      <td>0</td>\n",
       "      <td>f</td>\n",
       "      <td>t</td>\n",
       "      <td>1</td>\n",
       "      <td>f</td>\n",
       "      <td>g</td>\n",
       "      <td>96.0</td>\n",
       "      <td>19</td>\n",
       "      <td>960000.0</td>\n",
       "      <td>0</td>\n",
       "      <td>no.</td>\n",
       "    </tr>\n",
       "    <tr>\n",
       "      <td>3</td>\n",
       "      <td>a</td>\n",
       "      <td>4817.0</td>\n",
       "      <td>1335.00000</td>\n",
       "      <td>u</td>\n",
       "      <td>g</td>\n",
       "      <td>i</td>\n",
       "      <td>o</td>\n",
       "      <td>335</td>\n",
       "      <td>f</td>\n",
       "      <td>f</td>\n",
       "      <td>0</td>\n",
       "      <td>f</td>\n",
       "      <td>g</td>\n",
       "      <td>0.0</td>\n",
       "      <td>120</td>\n",
       "      <td>0.0</td>\n",
       "      <td>0</td>\n",
       "      <td>no.</td>\n",
       "    </tr>\n",
       "    <tr>\n",
       "      <td>4</td>\n",
       "      <td>b</td>\n",
       "      <td>3233.0</td>\n",
       "      <td>35.00000</td>\n",
       "      <td>u</td>\n",
       "      <td>g</td>\n",
       "      <td>k</td>\n",
       "      <td>v</td>\n",
       "      <td>5</td>\n",
       "      <td>f</td>\n",
       "      <td>f</td>\n",
       "      <td>0</td>\n",
       "      <td>t</td>\n",
       "      <td>g</td>\n",
       "      <td>232.0</td>\n",
       "      <td>0</td>\n",
       "      <td>2320000.0</td>\n",
       "      <td>0</td>\n",
       "      <td>no.</td>\n",
       "    </tr>\n",
       "  </tbody>\n",
       "</table>\n",
       "</div>"
      ],
      "text/plain": [
       "  variable1  variable2   variable3 variable4 variable5 variable6 variable7  \\\n",
       "0         a     1792.0     0.00054         u         g         c         v   \n",
       "1         b     1692.0     0.00335         y         p         k         v   \n",
       "2         b     3125.0  1125.00000         u         g        ff        ff   \n",
       "3         a     4817.0  1335.00000         u         g         i         o   \n",
       "4         b     3233.0    35.00000         u         g         k         v   \n",
       "\n",
       "   variable8 variable9 variable10  variable11 variable12 variable13  \\\n",
       "0        175         f          t           1          t          g   \n",
       "1         29         f          f           0          f          s   \n",
       "2          0         f          t           1          f          g   \n",
       "3        335         f          f           0          f          g   \n",
       "4          5         f          f           0          t          g   \n",
       "\n",
       "   variable14  variable15  variable17  variable19 classLabel  \n",
       "0        80.0           5    800000.0           0        no.  \n",
       "1       200.0           0   2000000.0           0        no.  \n",
       "2        96.0          19    960000.0           0        no.  \n",
       "3         0.0         120         0.0           0        no.  \n",
       "4       232.0           0   2320000.0           0        no.  "
      ]
     },
     "execution_count": 82,
     "metadata": {},
     "output_type": "execute_result"
    }
   ],
   "source": [
    "#import pandas \n",
    "import pandas as pd\n",
    "#data file path\n",
    "path = \"E:\\Widebot\\Task 2\\cleaned training\\cleaned_train.csv\"\n",
    "#import the CSV file\n",
    "train_model= pd.read_csv(path) \n",
    "train_model.head()"
   ]
  },
  {
   "cell_type": "code",
   "execution_count": 83,
   "metadata": {},
   "outputs": [
    {
     "name": "stdout",
     "output_type": "stream",
     "text": [
      "<class 'pandas.core.frame.DataFrame'>\n",
      "RangeIndex: 484 entries, 0 to 483\n",
      "Data columns (total 18 columns):\n",
      "variable1     484 non-null object\n",
      "variable2     484 non-null float64\n",
      "variable3     484 non-null float64\n",
      "variable4     484 non-null object\n",
      "variable5     484 non-null object\n",
      "variable6     484 non-null object\n",
      "variable7     484 non-null object\n",
      "variable8     484 non-null int64\n",
      "variable9     484 non-null object\n",
      "variable10    484 non-null object\n",
      "variable11    484 non-null int64\n",
      "variable12    484 non-null object\n",
      "variable13    484 non-null object\n",
      "variable14    484 non-null float64\n",
      "variable15    484 non-null int64\n",
      "variable17    484 non-null float64\n",
      "variable19    484 non-null int64\n",
      "classLabel    484 non-null object\n",
      "dtypes: float64(4), int64(4), object(10)\n",
      "memory usage: 68.2+ KB\n"
     ]
    }
   ],
   "source": [
    "#let's check\n",
    "train_model.info()"
   ]
  },
  {
   "cell_type": "markdown",
   "metadata": {},
   "source": [
    "###### make labelencoding for the target variable"
   ]
  },
  {
   "cell_type": "code",
   "execution_count": 84,
   "metadata": {},
   "outputs": [],
   "source": [
    "# Apply label encoder to each column with categorical data\n",
    "from sklearn.preprocessing import LabelEncoder\n",
    "\n",
    "label_encoder = LabelEncoder()\n",
    "train_model['classLabel'] = label_encoder.fit_transform(train_model['classLabel'])"
   ]
  },
  {
   "cell_type": "code",
   "execution_count": 85,
   "metadata": {},
   "outputs": [
    {
     "data": {
      "text/html": [
       "<div>\n",
       "<style scoped>\n",
       "    .dataframe tbody tr th:only-of-type {\n",
       "        vertical-align: middle;\n",
       "    }\n",
       "\n",
       "    .dataframe tbody tr th {\n",
       "        vertical-align: top;\n",
       "    }\n",
       "\n",
       "    .dataframe thead th {\n",
       "        text-align: right;\n",
       "    }\n",
       "</style>\n",
       "<table border=\"1\" class=\"dataframe\">\n",
       "  <thead>\n",
       "    <tr style=\"text-align: right;\">\n",
       "      <th></th>\n",
       "      <th>variable1</th>\n",
       "      <th>variable2</th>\n",
       "      <th>variable3</th>\n",
       "      <th>variable4</th>\n",
       "      <th>variable5</th>\n",
       "      <th>variable6</th>\n",
       "      <th>variable7</th>\n",
       "      <th>variable8</th>\n",
       "      <th>variable9</th>\n",
       "      <th>variable10</th>\n",
       "      <th>variable11</th>\n",
       "      <th>variable12</th>\n",
       "      <th>variable13</th>\n",
       "      <th>variable14</th>\n",
       "      <th>variable15</th>\n",
       "      <th>variable17</th>\n",
       "      <th>variable19</th>\n",
       "      <th>classLabel</th>\n",
       "    </tr>\n",
       "  </thead>\n",
       "  <tbody>\n",
       "    <tr>\n",
       "      <td>0</td>\n",
       "      <td>a</td>\n",
       "      <td>1792.0</td>\n",
       "      <td>0.00054</td>\n",
       "      <td>u</td>\n",
       "      <td>g</td>\n",
       "      <td>c</td>\n",
       "      <td>v</td>\n",
       "      <td>175</td>\n",
       "      <td>f</td>\n",
       "      <td>t</td>\n",
       "      <td>1</td>\n",
       "      <td>t</td>\n",
       "      <td>g</td>\n",
       "      <td>80.0</td>\n",
       "      <td>5</td>\n",
       "      <td>800000.0</td>\n",
       "      <td>0</td>\n",
       "      <td>0</td>\n",
       "    </tr>\n",
       "    <tr>\n",
       "      <td>1</td>\n",
       "      <td>b</td>\n",
       "      <td>1692.0</td>\n",
       "      <td>0.00335</td>\n",
       "      <td>y</td>\n",
       "      <td>p</td>\n",
       "      <td>k</td>\n",
       "      <td>v</td>\n",
       "      <td>29</td>\n",
       "      <td>f</td>\n",
       "      <td>f</td>\n",
       "      <td>0</td>\n",
       "      <td>f</td>\n",
       "      <td>s</td>\n",
       "      <td>200.0</td>\n",
       "      <td>0</td>\n",
       "      <td>2000000.0</td>\n",
       "      <td>0</td>\n",
       "      <td>0</td>\n",
       "    </tr>\n",
       "    <tr>\n",
       "      <td>2</td>\n",
       "      <td>b</td>\n",
       "      <td>3125.0</td>\n",
       "      <td>1125.00000</td>\n",
       "      <td>u</td>\n",
       "      <td>g</td>\n",
       "      <td>ff</td>\n",
       "      <td>ff</td>\n",
       "      <td>0</td>\n",
       "      <td>f</td>\n",
       "      <td>t</td>\n",
       "      <td>1</td>\n",
       "      <td>f</td>\n",
       "      <td>g</td>\n",
       "      <td>96.0</td>\n",
       "      <td>19</td>\n",
       "      <td>960000.0</td>\n",
       "      <td>0</td>\n",
       "      <td>0</td>\n",
       "    </tr>\n",
       "    <tr>\n",
       "      <td>3</td>\n",
       "      <td>a</td>\n",
       "      <td>4817.0</td>\n",
       "      <td>1335.00000</td>\n",
       "      <td>u</td>\n",
       "      <td>g</td>\n",
       "      <td>i</td>\n",
       "      <td>o</td>\n",
       "      <td>335</td>\n",
       "      <td>f</td>\n",
       "      <td>f</td>\n",
       "      <td>0</td>\n",
       "      <td>f</td>\n",
       "      <td>g</td>\n",
       "      <td>0.0</td>\n",
       "      <td>120</td>\n",
       "      <td>0.0</td>\n",
       "      <td>0</td>\n",
       "      <td>0</td>\n",
       "    </tr>\n",
       "    <tr>\n",
       "      <td>4</td>\n",
       "      <td>b</td>\n",
       "      <td>3233.0</td>\n",
       "      <td>35.00000</td>\n",
       "      <td>u</td>\n",
       "      <td>g</td>\n",
       "      <td>k</td>\n",
       "      <td>v</td>\n",
       "      <td>5</td>\n",
       "      <td>f</td>\n",
       "      <td>f</td>\n",
       "      <td>0</td>\n",
       "      <td>t</td>\n",
       "      <td>g</td>\n",
       "      <td>232.0</td>\n",
       "      <td>0</td>\n",
       "      <td>2320000.0</td>\n",
       "      <td>0</td>\n",
       "      <td>0</td>\n",
       "    </tr>\n",
       "  </tbody>\n",
       "</table>\n",
       "</div>"
      ],
      "text/plain": [
       "  variable1  variable2   variable3 variable4 variable5 variable6 variable7  \\\n",
       "0         a     1792.0     0.00054         u         g         c         v   \n",
       "1         b     1692.0     0.00335         y         p         k         v   \n",
       "2         b     3125.0  1125.00000         u         g        ff        ff   \n",
       "3         a     4817.0  1335.00000         u         g         i         o   \n",
       "4         b     3233.0    35.00000         u         g         k         v   \n",
       "\n",
       "   variable8 variable9 variable10  variable11 variable12 variable13  \\\n",
       "0        175         f          t           1          t          g   \n",
       "1         29         f          f           0          f          s   \n",
       "2          0         f          t           1          f          g   \n",
       "3        335         f          f           0          f          g   \n",
       "4          5         f          f           0          t          g   \n",
       "\n",
       "   variable14  variable15  variable17  variable19  classLabel  \n",
       "0        80.0           5    800000.0           0           0  \n",
       "1       200.0           0   2000000.0           0           0  \n",
       "2        96.0          19    960000.0           0           0  \n",
       "3         0.0         120         0.0           0           0  \n",
       "4       232.0           0   2320000.0           0           0  "
      ]
     },
     "execution_count": 85,
     "metadata": {},
     "output_type": "execute_result"
    }
   ],
   "source": [
    "#Check\n",
    "train_model.head()"
   ]
  },
  {
   "cell_type": "markdown",
   "metadata": {},
   "source": [
    "## handle the Target Variable of 'Validation'"
   ]
  },
  {
   "cell_type": "code",
   "execution_count": 86,
   "metadata": {},
   "outputs": [
    {
     "data": {
      "text/html": [
       "<div>\n",
       "<style scoped>\n",
       "    .dataframe tbody tr th:only-of-type {\n",
       "        vertical-align: middle;\n",
       "    }\n",
       "\n",
       "    .dataframe tbody tr th {\n",
       "        vertical-align: top;\n",
       "    }\n",
       "\n",
       "    .dataframe thead th {\n",
       "        text-align: right;\n",
       "    }\n",
       "</style>\n",
       "<table border=\"1\" class=\"dataframe\">\n",
       "  <thead>\n",
       "    <tr style=\"text-align: right;\">\n",
       "      <th></th>\n",
       "      <th>variable1</th>\n",
       "      <th>variable2</th>\n",
       "      <th>variable3</th>\n",
       "      <th>variable4</th>\n",
       "      <th>variable5</th>\n",
       "      <th>variable6</th>\n",
       "      <th>variable7</th>\n",
       "      <th>variable8</th>\n",
       "      <th>variable9</th>\n",
       "      <th>variable10</th>\n",
       "      <th>variable11</th>\n",
       "      <th>variable12</th>\n",
       "      <th>variable13</th>\n",
       "      <th>variable14</th>\n",
       "      <th>variable15</th>\n",
       "      <th>variable17</th>\n",
       "      <th>variable19</th>\n",
       "      <th>classLabel</th>\n",
       "    </tr>\n",
       "  </thead>\n",
       "  <tbody>\n",
       "    <tr>\n",
       "      <td>0</td>\n",
       "      <td>b</td>\n",
       "      <td>3233.0</td>\n",
       "      <td>75.00000</td>\n",
       "      <td>u</td>\n",
       "      <td>g</td>\n",
       "      <td>e</td>\n",
       "      <td>bb</td>\n",
       "      <td>1585</td>\n",
       "      <td>t</td>\n",
       "      <td>f</td>\n",
       "      <td>0</td>\n",
       "      <td>t</td>\n",
       "      <td>s</td>\n",
       "      <td>420.0</td>\n",
       "      <td>0</td>\n",
       "      <td>4200000.0</td>\n",
       "      <td>1</td>\n",
       "      <td>no.</td>\n",
       "    </tr>\n",
       "    <tr>\n",
       "      <td>1</td>\n",
       "      <td>b</td>\n",
       "      <td>2358.0</td>\n",
       "      <td>179.00000</td>\n",
       "      <td>u</td>\n",
       "      <td>g</td>\n",
       "      <td>c</td>\n",
       "      <td>v</td>\n",
       "      <td>54</td>\n",
       "      <td>f</td>\n",
       "      <td>f</td>\n",
       "      <td>0</td>\n",
       "      <td>t</td>\n",
       "      <td>g</td>\n",
       "      <td>136.0</td>\n",
       "      <td>1</td>\n",
       "      <td>1360000.0</td>\n",
       "      <td>0</td>\n",
       "      <td>no.</td>\n",
       "    </tr>\n",
       "    <tr>\n",
       "      <td>2</td>\n",
       "      <td>b</td>\n",
       "      <td>3642.0</td>\n",
       "      <td>0.00075</td>\n",
       "      <td>y</td>\n",
       "      <td>p</td>\n",
       "      <td>d</td>\n",
       "      <td>v</td>\n",
       "      <td>585</td>\n",
       "      <td>f</td>\n",
       "      <td>f</td>\n",
       "      <td>0</td>\n",
       "      <td>f</td>\n",
       "      <td>g</td>\n",
       "      <td>240.0</td>\n",
       "      <td>3</td>\n",
       "      <td>2400000.0</td>\n",
       "      <td>1</td>\n",
       "      <td>no.</td>\n",
       "    </tr>\n",
       "    <tr>\n",
       "      <td>3</td>\n",
       "      <td>b</td>\n",
       "      <td>1842.0</td>\n",
       "      <td>10415.00000</td>\n",
       "      <td>y</td>\n",
       "      <td>p</td>\n",
       "      <td>aa</td>\n",
       "      <td>v</td>\n",
       "      <td>125</td>\n",
       "      <td>t</td>\n",
       "      <td>f</td>\n",
       "      <td>0</td>\n",
       "      <td>f</td>\n",
       "      <td>g</td>\n",
       "      <td>120.0</td>\n",
       "      <td>375</td>\n",
       "      <td>1200000.0</td>\n",
       "      <td>0</td>\n",
       "      <td>no.</td>\n",
       "    </tr>\n",
       "    <tr>\n",
       "      <td>4</td>\n",
       "      <td>b</td>\n",
       "      <td>245.0</td>\n",
       "      <td>13335.00000</td>\n",
       "      <td>y</td>\n",
       "      <td>p</td>\n",
       "      <td>aa</td>\n",
       "      <td>v</td>\n",
       "      <td>4</td>\n",
       "      <td>f</td>\n",
       "      <td>f</td>\n",
       "      <td>0</td>\n",
       "      <td>t</td>\n",
       "      <td>g</td>\n",
       "      <td>120.0</td>\n",
       "      <td>475</td>\n",
       "      <td>1200000.0</td>\n",
       "      <td>1</td>\n",
       "      <td>no.</td>\n",
       "    </tr>\n",
       "  </tbody>\n",
       "</table>\n",
       "</div>"
      ],
      "text/plain": [
       "  variable1  variable2    variable3 variable4 variable5 variable6 variable7  \\\n",
       "0         b     3233.0     75.00000         u         g         e        bb   \n",
       "1         b     2358.0    179.00000         u         g         c         v   \n",
       "2         b     3642.0      0.00075         y         p         d         v   \n",
       "3         b     1842.0  10415.00000         y         p        aa         v   \n",
       "4         b      245.0  13335.00000         y         p        aa         v   \n",
       "\n",
       "   variable8 variable9 variable10  variable11 variable12 variable13  \\\n",
       "0       1585         t          f           0          t          s   \n",
       "1         54         f          f           0          t          g   \n",
       "2        585         f          f           0          f          g   \n",
       "3        125         t          f           0          f          g   \n",
       "4          4         f          f           0          t          g   \n",
       "\n",
       "   variable14  variable15  variable17  variable19 classLabel  \n",
       "0       420.0           0   4200000.0           1        no.  \n",
       "1       136.0           1   1360000.0           0        no.  \n",
       "2       240.0           3   2400000.0           1        no.  \n",
       "3       120.0         375   1200000.0           0        no.  \n",
       "4       120.0         475   1200000.0           1        no.  "
      ]
     },
     "execution_count": 86,
     "metadata": {},
     "output_type": "execute_result"
    }
   ],
   "source": [
    "#import pandas \n",
    "import pandas as pd\n",
    "#data file path\n",
    "path2 = \"E:\\Widebot\\Task 2\\cleaned validation\\cleaned_validation.csv\"\n",
    "#import the CSV file\n",
    "validation_model= pd.read_csv(path2) \n",
    "validation_model.head()"
   ]
  },
  {
   "cell_type": "markdown",
   "metadata": {},
   "source": [
    "###### make labelencoding for the target variable"
   ]
  },
  {
   "cell_type": "code",
   "execution_count": 87,
   "metadata": {},
   "outputs": [],
   "source": [
    "# Apply label encoder to each column with categorical data\n",
    "label_encoder = LabelEncoder()\n",
    "validation_model['classLabel'] = label_encoder.fit_transform(validation_model['classLabel'])"
   ]
  },
  {
   "cell_type": "markdown",
   "metadata": {},
   "source": [
    "# Handle Categorical features of both Training and validation set"
   ]
  },
  {
   "cell_type": "markdown",
   "metadata": {},
   "source": [
    "###### Apply  One-Hot-Encoding"
   ]
  },
  {
   "cell_type": "code",
   "execution_count": 88,
   "metadata": {},
   "outputs": [],
   "source": [
    "#Label Encoding for object to numeric conversion\n",
    "X_train = train_model.iloc[:, :-1]\n",
    "X_train = pd.get_dummies(X_train)\n",
    "\n",
    "#Label Encoding for object to numeric conversion\n",
    "X_test = validation_model.iloc[: , :-1]\n",
    "X_test = pd.get_dummies(X_test)\n",
    "\n",
    "\n",
    "y_train = train_model.iloc[:, -1]\n",
    "\n",
    "y_test = validation_model.iloc[: , -1]\n"
   ]
  },
  {
   "cell_type": "code",
   "execution_count": 89,
   "metadata": {},
   "outputs": [
    {
     "data": {
      "text/plain": [
       "0    0\n",
       "1    0\n",
       "2    0\n",
       "3    0\n",
       "4    0\n",
       "Name: classLabel, dtype: int32"
      ]
     },
     "execution_count": 89,
     "metadata": {},
     "output_type": "execute_result"
    }
   ],
   "source": [
    "#check..\n",
    "y_train.head()"
   ]
  },
  {
   "cell_type": "code",
   "execution_count": 90,
   "metadata": {},
   "outputs": [
    {
     "data": {
      "text/html": [
       "<div>\n",
       "<style scoped>\n",
       "    .dataframe tbody tr th:only-of-type {\n",
       "        vertical-align: middle;\n",
       "    }\n",
       "\n",
       "    .dataframe tbody tr th {\n",
       "        vertical-align: top;\n",
       "    }\n",
       "\n",
       "    .dataframe thead th {\n",
       "        text-align: right;\n",
       "    }\n",
       "</style>\n",
       "<table border=\"1\" class=\"dataframe\">\n",
       "  <thead>\n",
       "    <tr style=\"text-align: right;\">\n",
       "      <th></th>\n",
       "      <th>variable2</th>\n",
       "      <th>variable3</th>\n",
       "      <th>variable8</th>\n",
       "      <th>variable11</th>\n",
       "      <th>variable14</th>\n",
       "      <th>variable15</th>\n",
       "      <th>variable17</th>\n",
       "      <th>variable19</th>\n",
       "      <th>variable1_a</th>\n",
       "      <th>variable1_b</th>\n",
       "      <th>...</th>\n",
       "      <th>variable7_v</th>\n",
       "      <th>variable7_z</th>\n",
       "      <th>variable9_f</th>\n",
       "      <th>variable9_t</th>\n",
       "      <th>variable10_f</th>\n",
       "      <th>variable10_t</th>\n",
       "      <th>variable12_f</th>\n",
       "      <th>variable12_t</th>\n",
       "      <th>variable13_g</th>\n",
       "      <th>variable13_s</th>\n",
       "    </tr>\n",
       "  </thead>\n",
       "  <tbody>\n",
       "    <tr>\n",
       "      <td>0</td>\n",
       "      <td>3233.0</td>\n",
       "      <td>75.00000</td>\n",
       "      <td>1585</td>\n",
       "      <td>0</td>\n",
       "      <td>420.0</td>\n",
       "      <td>0</td>\n",
       "      <td>4200000.0</td>\n",
       "      <td>1</td>\n",
       "      <td>0</td>\n",
       "      <td>1</td>\n",
       "      <td>...</td>\n",
       "      <td>0</td>\n",
       "      <td>0</td>\n",
       "      <td>0</td>\n",
       "      <td>1</td>\n",
       "      <td>1</td>\n",
       "      <td>0</td>\n",
       "      <td>0</td>\n",
       "      <td>1</td>\n",
       "      <td>0</td>\n",
       "      <td>1</td>\n",
       "    </tr>\n",
       "    <tr>\n",
       "      <td>1</td>\n",
       "      <td>2358.0</td>\n",
       "      <td>179.00000</td>\n",
       "      <td>54</td>\n",
       "      <td>0</td>\n",
       "      <td>136.0</td>\n",
       "      <td>1</td>\n",
       "      <td>1360000.0</td>\n",
       "      <td>0</td>\n",
       "      <td>0</td>\n",
       "      <td>1</td>\n",
       "      <td>...</td>\n",
       "      <td>1</td>\n",
       "      <td>0</td>\n",
       "      <td>1</td>\n",
       "      <td>0</td>\n",
       "      <td>1</td>\n",
       "      <td>0</td>\n",
       "      <td>0</td>\n",
       "      <td>1</td>\n",
       "      <td>1</td>\n",
       "      <td>0</td>\n",
       "    </tr>\n",
       "    <tr>\n",
       "      <td>2</td>\n",
       "      <td>3642.0</td>\n",
       "      <td>0.00075</td>\n",
       "      <td>585</td>\n",
       "      <td>0</td>\n",
       "      <td>240.0</td>\n",
       "      <td>3</td>\n",
       "      <td>2400000.0</td>\n",
       "      <td>1</td>\n",
       "      <td>0</td>\n",
       "      <td>1</td>\n",
       "      <td>...</td>\n",
       "      <td>1</td>\n",
       "      <td>0</td>\n",
       "      <td>1</td>\n",
       "      <td>0</td>\n",
       "      <td>1</td>\n",
       "      <td>0</td>\n",
       "      <td>1</td>\n",
       "      <td>0</td>\n",
       "      <td>1</td>\n",
       "      <td>0</td>\n",
       "    </tr>\n",
       "    <tr>\n",
       "      <td>3</td>\n",
       "      <td>1842.0</td>\n",
       "      <td>10415.00000</td>\n",
       "      <td>125</td>\n",
       "      <td>0</td>\n",
       "      <td>120.0</td>\n",
       "      <td>375</td>\n",
       "      <td>1200000.0</td>\n",
       "      <td>0</td>\n",
       "      <td>0</td>\n",
       "      <td>1</td>\n",
       "      <td>...</td>\n",
       "      <td>1</td>\n",
       "      <td>0</td>\n",
       "      <td>0</td>\n",
       "      <td>1</td>\n",
       "      <td>1</td>\n",
       "      <td>0</td>\n",
       "      <td>1</td>\n",
       "      <td>0</td>\n",
       "      <td>1</td>\n",
       "      <td>0</td>\n",
       "    </tr>\n",
       "    <tr>\n",
       "      <td>4</td>\n",
       "      <td>245.0</td>\n",
       "      <td>13335.00000</td>\n",
       "      <td>4</td>\n",
       "      <td>0</td>\n",
       "      <td>120.0</td>\n",
       "      <td>475</td>\n",
       "      <td>1200000.0</td>\n",
       "      <td>1</td>\n",
       "      <td>0</td>\n",
       "      <td>1</td>\n",
       "      <td>...</td>\n",
       "      <td>1</td>\n",
       "      <td>0</td>\n",
       "      <td>1</td>\n",
       "      <td>0</td>\n",
       "      <td>1</td>\n",
       "      <td>0</td>\n",
       "      <td>0</td>\n",
       "      <td>1</td>\n",
       "      <td>1</td>\n",
       "      <td>0</td>\n",
       "    </tr>\n",
       "  </tbody>\n",
       "</table>\n",
       "<p>5 rows × 43 columns</p>\n",
       "</div>"
      ],
      "text/plain": [
       "   variable2    variable3  variable8  variable11  variable14  variable15  \\\n",
       "0     3233.0     75.00000       1585           0       420.0           0   \n",
       "1     2358.0    179.00000         54           0       136.0           1   \n",
       "2     3642.0      0.00075        585           0       240.0           3   \n",
       "3     1842.0  10415.00000        125           0       120.0         375   \n",
       "4      245.0  13335.00000          4           0       120.0         475   \n",
       "\n",
       "   variable17  variable19  variable1_a  variable1_b  ...  variable7_v  \\\n",
       "0   4200000.0           1            0            1  ...            0   \n",
       "1   1360000.0           0            0            1  ...            1   \n",
       "2   2400000.0           1            0            1  ...            1   \n",
       "3   1200000.0           0            0            1  ...            1   \n",
       "4   1200000.0           1            0            1  ...            1   \n",
       "\n",
       "   variable7_z  variable9_f  variable9_t  variable10_f  variable10_t  \\\n",
       "0            0            0            1             1             0   \n",
       "1            0            1            0             1             0   \n",
       "2            0            1            0             1             0   \n",
       "3            0            0            1             1             0   \n",
       "4            0            1            0             1             0   \n",
       "\n",
       "   variable12_f  variable12_t  variable13_g  variable13_s  \n",
       "0             0             1             0             1  \n",
       "1             0             1             1             0  \n",
       "2             1             0             1             0  \n",
       "3             1             0             1             0  \n",
       "4             0             1             1             0  \n",
       "\n",
       "[5 rows x 43 columns]"
      ]
     },
     "execution_count": 90,
     "metadata": {},
     "output_type": "execute_result"
    }
   ],
   "source": [
    "X_test.head()"
   ]
  },
  {
   "cell_type": "code",
   "execution_count": 91,
   "metadata": {},
   "outputs": [
    {
     "data": {
      "text/html": [
       "<div>\n",
       "<style scoped>\n",
       "    .dataframe tbody tr th:only-of-type {\n",
       "        vertical-align: middle;\n",
       "    }\n",
       "\n",
       "    .dataframe tbody tr th {\n",
       "        vertical-align: top;\n",
       "    }\n",
       "\n",
       "    .dataframe thead th {\n",
       "        text-align: right;\n",
       "    }\n",
       "</style>\n",
       "<table border=\"1\" class=\"dataframe\">\n",
       "  <thead>\n",
       "    <tr style=\"text-align: right;\">\n",
       "      <th></th>\n",
       "      <th>variable2</th>\n",
       "      <th>variable3</th>\n",
       "      <th>variable8</th>\n",
       "      <th>variable11</th>\n",
       "      <th>variable14</th>\n",
       "      <th>variable15</th>\n",
       "      <th>variable17</th>\n",
       "      <th>variable19</th>\n",
       "      <th>variable1_a</th>\n",
       "      <th>variable1_b</th>\n",
       "      <th>...</th>\n",
       "      <th>variable7_z</th>\n",
       "      <th>variable9_f</th>\n",
       "      <th>variable9_t</th>\n",
       "      <th>variable10_f</th>\n",
       "      <th>variable10_t</th>\n",
       "      <th>variable12_f</th>\n",
       "      <th>variable12_t</th>\n",
       "      <th>variable13_g</th>\n",
       "      <th>variable13_p</th>\n",
       "      <th>variable13_s</th>\n",
       "    </tr>\n",
       "  </thead>\n",
       "  <tbody>\n",
       "    <tr>\n",
       "      <td>0</td>\n",
       "      <td>1792.0</td>\n",
       "      <td>0.00054</td>\n",
       "      <td>175</td>\n",
       "      <td>1</td>\n",
       "      <td>80.0</td>\n",
       "      <td>5</td>\n",
       "      <td>800000.0</td>\n",
       "      <td>0</td>\n",
       "      <td>1</td>\n",
       "      <td>0</td>\n",
       "      <td>...</td>\n",
       "      <td>0</td>\n",
       "      <td>1</td>\n",
       "      <td>0</td>\n",
       "      <td>0</td>\n",
       "      <td>1</td>\n",
       "      <td>0</td>\n",
       "      <td>1</td>\n",
       "      <td>1</td>\n",
       "      <td>0</td>\n",
       "      <td>0</td>\n",
       "    </tr>\n",
       "    <tr>\n",
       "      <td>1</td>\n",
       "      <td>1692.0</td>\n",
       "      <td>0.00335</td>\n",
       "      <td>29</td>\n",
       "      <td>0</td>\n",
       "      <td>200.0</td>\n",
       "      <td>0</td>\n",
       "      <td>2000000.0</td>\n",
       "      <td>0</td>\n",
       "      <td>0</td>\n",
       "      <td>1</td>\n",
       "      <td>...</td>\n",
       "      <td>0</td>\n",
       "      <td>1</td>\n",
       "      <td>0</td>\n",
       "      <td>1</td>\n",
       "      <td>0</td>\n",
       "      <td>1</td>\n",
       "      <td>0</td>\n",
       "      <td>0</td>\n",
       "      <td>0</td>\n",
       "      <td>1</td>\n",
       "    </tr>\n",
       "    <tr>\n",
       "      <td>2</td>\n",
       "      <td>3125.0</td>\n",
       "      <td>1125.00000</td>\n",
       "      <td>0</td>\n",
       "      <td>1</td>\n",
       "      <td>96.0</td>\n",
       "      <td>19</td>\n",
       "      <td>960000.0</td>\n",
       "      <td>0</td>\n",
       "      <td>0</td>\n",
       "      <td>1</td>\n",
       "      <td>...</td>\n",
       "      <td>0</td>\n",
       "      <td>1</td>\n",
       "      <td>0</td>\n",
       "      <td>0</td>\n",
       "      <td>1</td>\n",
       "      <td>1</td>\n",
       "      <td>0</td>\n",
       "      <td>1</td>\n",
       "      <td>0</td>\n",
       "      <td>0</td>\n",
       "    </tr>\n",
       "    <tr>\n",
       "      <td>3</td>\n",
       "      <td>4817.0</td>\n",
       "      <td>1335.00000</td>\n",
       "      <td>335</td>\n",
       "      <td>0</td>\n",
       "      <td>0.0</td>\n",
       "      <td>120</td>\n",
       "      <td>0.0</td>\n",
       "      <td>0</td>\n",
       "      <td>1</td>\n",
       "      <td>0</td>\n",
       "      <td>...</td>\n",
       "      <td>0</td>\n",
       "      <td>1</td>\n",
       "      <td>0</td>\n",
       "      <td>1</td>\n",
       "      <td>0</td>\n",
       "      <td>1</td>\n",
       "      <td>0</td>\n",
       "      <td>1</td>\n",
       "      <td>0</td>\n",
       "      <td>0</td>\n",
       "    </tr>\n",
       "    <tr>\n",
       "      <td>4</td>\n",
       "      <td>3233.0</td>\n",
       "      <td>35.00000</td>\n",
       "      <td>5</td>\n",
       "      <td>0</td>\n",
       "      <td>232.0</td>\n",
       "      <td>0</td>\n",
       "      <td>2320000.0</td>\n",
       "      <td>0</td>\n",
       "      <td>0</td>\n",
       "      <td>1</td>\n",
       "      <td>...</td>\n",
       "      <td>0</td>\n",
       "      <td>1</td>\n",
       "      <td>0</td>\n",
       "      <td>1</td>\n",
       "      <td>0</td>\n",
       "      <td>0</td>\n",
       "      <td>1</td>\n",
       "      <td>1</td>\n",
       "      <td>0</td>\n",
       "      <td>0</td>\n",
       "    </tr>\n",
       "  </tbody>\n",
       "</table>\n",
       "<p>5 rows × 48 columns</p>\n",
       "</div>"
      ],
      "text/plain": [
       "   variable2   variable3  variable8  variable11  variable14  variable15  \\\n",
       "0     1792.0     0.00054        175           1        80.0           5   \n",
       "1     1692.0     0.00335         29           0       200.0           0   \n",
       "2     3125.0  1125.00000          0           1        96.0          19   \n",
       "3     4817.0  1335.00000        335           0         0.0         120   \n",
       "4     3233.0    35.00000          5           0       232.0           0   \n",
       "\n",
       "   variable17  variable19  variable1_a  variable1_b  ...  variable7_z  \\\n",
       "0    800000.0           0            1            0  ...            0   \n",
       "1   2000000.0           0            0            1  ...            0   \n",
       "2    960000.0           0            0            1  ...            0   \n",
       "3         0.0           0            1            0  ...            0   \n",
       "4   2320000.0           0            0            1  ...            0   \n",
       "\n",
       "   variable9_f  variable9_t  variable10_f  variable10_t  variable12_f  \\\n",
       "0            1            0             0             1             0   \n",
       "1            1            0             1             0             1   \n",
       "2            1            0             0             1             1   \n",
       "3            1            0             1             0             1   \n",
       "4            1            0             1             0             0   \n",
       "\n",
       "   variable12_t  variable13_g  variable13_p  variable13_s  \n",
       "0             1             1             0             0  \n",
       "1             0             0             0             1  \n",
       "2             0             1             0             0  \n",
       "3             0             1             0             0  \n",
       "4             1             1             0             0  \n",
       "\n",
       "[5 rows x 48 columns]"
      ]
     },
     "execution_count": 91,
     "metadata": {},
     "output_type": "execute_result"
    }
   ],
   "source": [
    "X_train.head()"
   ]
  },
  {
   "cell_type": "code",
   "execution_count": 92,
   "metadata": {},
   "outputs": [
    {
     "name": "stdout",
     "output_type": "stream",
     "text": [
      "Note that they do not have the same dimention\n"
     ]
    }
   ],
   "source": [
    "try:\n",
    "    X_train.columns == X_test.columns\n",
    "except:\n",
    "    print('Note that they do not have the same dimention')"
   ]
  },
  {
   "cell_type": "markdown",
   "metadata": {},
   "source": [
    "###### fill new columns in X_test with 0 value to Occupy with X_train"
   ]
  },
  {
   "cell_type": "code",
   "execution_count": 93,
   "metadata": {},
   "outputs": [],
   "source": [
    "col_num = len(X_train.columns)\n",
    "for i in range (col_num):\n",
    "    if (X_train.columns[i] in X_test.columns) == 0:\n",
    "        X_test.insert(i, X_train.columns[i], 0)\n",
    "        \n",
    "X_train.sort_index(axis=1, inplace=True)\n",
    "X_test.sort_index(axis=1, inplace=True)        \n",
    "variables = X_test.columns"
   ]
  },
  {
   "cell_type": "code",
   "execution_count": 94,
   "metadata": {},
   "outputs": [],
   "source": [
    "#check..\n",
    "try:\n",
    "    X_train.columns == X_test.columns\n",
    "except:\n",
    "    print('Note that they do not have the same dimention')"
   ]
  },
  {
   "cell_type": "code",
   "execution_count": 95,
   "metadata": {},
   "outputs": [
    {
     "data": {
      "text/html": [
       "<div>\n",
       "<style scoped>\n",
       "    .dataframe tbody tr th:only-of-type {\n",
       "        vertical-align: middle;\n",
       "    }\n",
       "\n",
       "    .dataframe tbody tr th {\n",
       "        vertical-align: top;\n",
       "    }\n",
       "\n",
       "    .dataframe thead th {\n",
       "        text-align: right;\n",
       "    }\n",
       "</style>\n",
       "<table border=\"1\" class=\"dataframe\">\n",
       "  <thead>\n",
       "    <tr style=\"text-align: right;\">\n",
       "      <th></th>\n",
       "      <th>variable10_f</th>\n",
       "      <th>variable10_t</th>\n",
       "      <th>variable11</th>\n",
       "      <th>variable12_f</th>\n",
       "      <th>variable12_t</th>\n",
       "      <th>variable13_g</th>\n",
       "      <th>variable13_p</th>\n",
       "      <th>variable13_s</th>\n",
       "      <th>variable14</th>\n",
       "      <th>variable15</th>\n",
       "      <th>...</th>\n",
       "      <th>variable7_ff</th>\n",
       "      <th>variable7_h</th>\n",
       "      <th>variable7_j</th>\n",
       "      <th>variable7_n</th>\n",
       "      <th>variable7_o</th>\n",
       "      <th>variable7_v</th>\n",
       "      <th>variable7_z</th>\n",
       "      <th>variable8</th>\n",
       "      <th>variable9_f</th>\n",
       "      <th>variable9_t</th>\n",
       "    </tr>\n",
       "  </thead>\n",
       "  <tbody>\n",
       "    <tr>\n",
       "      <td>0</td>\n",
       "      <td>0</td>\n",
       "      <td>1</td>\n",
       "      <td>1</td>\n",
       "      <td>0</td>\n",
       "      <td>1</td>\n",
       "      <td>1</td>\n",
       "      <td>0</td>\n",
       "      <td>0</td>\n",
       "      <td>80.0</td>\n",
       "      <td>5</td>\n",
       "      <td>...</td>\n",
       "      <td>0</td>\n",
       "      <td>0</td>\n",
       "      <td>0</td>\n",
       "      <td>0</td>\n",
       "      <td>0</td>\n",
       "      <td>1</td>\n",
       "      <td>0</td>\n",
       "      <td>175</td>\n",
       "      <td>1</td>\n",
       "      <td>0</td>\n",
       "    </tr>\n",
       "    <tr>\n",
       "      <td>1</td>\n",
       "      <td>1</td>\n",
       "      <td>0</td>\n",
       "      <td>0</td>\n",
       "      <td>1</td>\n",
       "      <td>0</td>\n",
       "      <td>0</td>\n",
       "      <td>0</td>\n",
       "      <td>1</td>\n",
       "      <td>200.0</td>\n",
       "      <td>0</td>\n",
       "      <td>...</td>\n",
       "      <td>0</td>\n",
       "      <td>0</td>\n",
       "      <td>0</td>\n",
       "      <td>0</td>\n",
       "      <td>0</td>\n",
       "      <td>1</td>\n",
       "      <td>0</td>\n",
       "      <td>29</td>\n",
       "      <td>1</td>\n",
       "      <td>0</td>\n",
       "    </tr>\n",
       "    <tr>\n",
       "      <td>2</td>\n",
       "      <td>0</td>\n",
       "      <td>1</td>\n",
       "      <td>1</td>\n",
       "      <td>1</td>\n",
       "      <td>0</td>\n",
       "      <td>1</td>\n",
       "      <td>0</td>\n",
       "      <td>0</td>\n",
       "      <td>96.0</td>\n",
       "      <td>19</td>\n",
       "      <td>...</td>\n",
       "      <td>1</td>\n",
       "      <td>0</td>\n",
       "      <td>0</td>\n",
       "      <td>0</td>\n",
       "      <td>0</td>\n",
       "      <td>0</td>\n",
       "      <td>0</td>\n",
       "      <td>0</td>\n",
       "      <td>1</td>\n",
       "      <td>0</td>\n",
       "    </tr>\n",
       "    <tr>\n",
       "      <td>3</td>\n",
       "      <td>1</td>\n",
       "      <td>0</td>\n",
       "      <td>0</td>\n",
       "      <td>1</td>\n",
       "      <td>0</td>\n",
       "      <td>1</td>\n",
       "      <td>0</td>\n",
       "      <td>0</td>\n",
       "      <td>0.0</td>\n",
       "      <td>120</td>\n",
       "      <td>...</td>\n",
       "      <td>0</td>\n",
       "      <td>0</td>\n",
       "      <td>0</td>\n",
       "      <td>0</td>\n",
       "      <td>1</td>\n",
       "      <td>0</td>\n",
       "      <td>0</td>\n",
       "      <td>335</td>\n",
       "      <td>1</td>\n",
       "      <td>0</td>\n",
       "    </tr>\n",
       "    <tr>\n",
       "      <td>4</td>\n",
       "      <td>1</td>\n",
       "      <td>0</td>\n",
       "      <td>0</td>\n",
       "      <td>0</td>\n",
       "      <td>1</td>\n",
       "      <td>1</td>\n",
       "      <td>0</td>\n",
       "      <td>0</td>\n",
       "      <td>232.0</td>\n",
       "      <td>0</td>\n",
       "      <td>...</td>\n",
       "      <td>0</td>\n",
       "      <td>0</td>\n",
       "      <td>0</td>\n",
       "      <td>0</td>\n",
       "      <td>0</td>\n",
       "      <td>1</td>\n",
       "      <td>0</td>\n",
       "      <td>5</td>\n",
       "      <td>1</td>\n",
       "      <td>0</td>\n",
       "    </tr>\n",
       "  </tbody>\n",
       "</table>\n",
       "<p>5 rows × 48 columns</p>\n",
       "</div>"
      ],
      "text/plain": [
       "   variable10_f  variable10_t  variable11  variable12_f  variable12_t  \\\n",
       "0             0             1           1             0             1   \n",
       "1             1             0           0             1             0   \n",
       "2             0             1           1             1             0   \n",
       "3             1             0           0             1             0   \n",
       "4             1             0           0             0             1   \n",
       "\n",
       "   variable13_g  variable13_p  variable13_s  variable14  variable15  ...  \\\n",
       "0             1             0             0        80.0           5  ...   \n",
       "1             0             0             1       200.0           0  ...   \n",
       "2             1             0             0        96.0          19  ...   \n",
       "3             1             0             0         0.0         120  ...   \n",
       "4             1             0             0       232.0           0  ...   \n",
       "\n",
       "   variable7_ff  variable7_h  variable7_j  variable7_n  variable7_o  \\\n",
       "0             0            0            0            0            0   \n",
       "1             0            0            0            0            0   \n",
       "2             1            0            0            0            0   \n",
       "3             0            0            0            0            1   \n",
       "4             0            0            0            0            0   \n",
       "\n",
       "   variable7_v  variable7_z  variable8  variable9_f  variable9_t  \n",
       "0            1            0        175            1            0  \n",
       "1            1            0         29            1            0  \n",
       "2            0            0          0            1            0  \n",
       "3            0            0        335            1            0  \n",
       "4            1            0          5            1            0  \n",
       "\n",
       "[5 rows x 48 columns]"
      ]
     },
     "execution_count": 95,
     "metadata": {},
     "output_type": "execute_result"
    }
   ],
   "source": [
    "#check\n",
    "X_train.head()"
   ]
  },
  {
   "cell_type": "code",
   "execution_count": 96,
   "metadata": {},
   "outputs": [
    {
     "name": "stdout",
     "output_type": "stream",
     "text": [
      "<class 'pandas.core.frame.DataFrame'>\n",
      "RangeIndex: 197 entries, 0 to 196\n",
      "Data columns (total 48 columns):\n",
      "variable10_f    197 non-null uint8\n",
      "variable10_t    197 non-null uint8\n",
      "variable11      197 non-null int64\n",
      "variable12_f    197 non-null uint8\n",
      "variable12_t    197 non-null uint8\n",
      "variable13_g    197 non-null uint8\n",
      "variable13_p    197 non-null int64\n",
      "variable13_s    197 non-null uint8\n",
      "variable14      197 non-null float64\n",
      "variable15      197 non-null int64\n",
      "variable17      197 non-null float64\n",
      "variable19      197 non-null int64\n",
      "variable1_a     197 non-null uint8\n",
      "variable1_b     197 non-null uint8\n",
      "variable2       197 non-null float64\n",
      "variable3       197 non-null float64\n",
      "variable4_l     197 non-null int64\n",
      "variable4_u     197 non-null uint8\n",
      "variable4_y     197 non-null uint8\n",
      "variable5_g     197 non-null uint8\n",
      "variable5_gg    197 non-null int64\n",
      "variable5_p     197 non-null uint8\n",
      "variable6_W     197 non-null uint8\n",
      "variable6_aa    197 non-null uint8\n",
      "variable6_c     197 non-null uint8\n",
      "variable6_cc    197 non-null uint8\n",
      "variable6_d     197 non-null uint8\n",
      "variable6_e     197 non-null uint8\n",
      "variable6_ff    197 non-null uint8\n",
      "variable6_i     197 non-null uint8\n",
      "variable6_j     197 non-null uint8\n",
      "variable6_k     197 non-null uint8\n",
      "variable6_m     197 non-null uint8\n",
      "variable6_q     197 non-null uint8\n",
      "variable6_r     197 non-null int64\n",
      "variable6_x     197 non-null uint8\n",
      "variable7_bb    197 non-null uint8\n",
      "variable7_dd    197 non-null uint8\n",
      "variable7_ff    197 non-null uint8\n",
      "variable7_h     197 non-null uint8\n",
      "variable7_j     197 non-null uint8\n",
      "variable7_n     197 non-null uint8\n",
      "variable7_o     197 non-null int64\n",
      "variable7_v     197 non-null uint8\n",
      "variable7_z     197 non-null uint8\n",
      "variable8       197 non-null int64\n",
      "variable9_f     197 non-null uint8\n",
      "variable9_t     197 non-null uint8\n",
      "dtypes: float64(4), int64(9), uint8(35)\n",
      "memory usage: 26.9 KB\n"
     ]
    }
   ],
   "source": [
    "#check\n",
    "X_test.info()"
   ]
  },
  {
   "cell_type": "markdown",
   "metadata": {},
   "source": [
    "# Regularization: Apply LASSO to check which variable should be in the model "
   ]
  },
  {
   "cell_type": "code",
   "execution_count": 97,
   "metadata": {},
   "outputs": [],
   "source": [
    "#concat features together and labels togeter\n",
    "frame1 = [X_train, X_test]\n",
    "frame2 = [y_train, y_test]\n",
    "\n",
    "X = pd.concat(frame1)\n",
    "y = pd.concat(frame2)"
   ]
  },
  {
   "cell_type": "code",
   "execution_count": 98,
   "metadata": {},
   "outputs": [
    {
     "name": "stdout",
     "output_type": "stream",
     "text": [
      "[-0.00000000e+00  0.00000000e+00  2.56744999e-02 -0.00000000e+00\n",
      "  0.00000000e+00  0.00000000e+00 -0.00000000e+00 -0.00000000e+00\n",
      " -0.00000000e+00  1.31741633e-05 -1.72088320e-08  1.09157814e-01\n",
      "  0.00000000e+00 -0.00000000e+00  6.86038506e-06  1.90306136e-06\n",
      "  0.00000000e+00  0.00000000e+00 -0.00000000e+00  0.00000000e+00\n",
      "  0.00000000e+00 -0.00000000e+00  0.00000000e+00 -0.00000000e+00\n",
      " -0.00000000e+00  0.00000000e+00 -0.00000000e+00  0.00000000e+00\n",
      " -0.00000000e+00 -0.00000000e+00 -0.00000000e+00 -0.00000000e+00\n",
      "  0.00000000e+00  0.00000000e+00 -0.00000000e+00  0.00000000e+00\n",
      " -0.00000000e+00 -0.00000000e+00 -0.00000000e+00  0.00000000e+00\n",
      "  0.00000000e+00  0.00000000e+00 -0.00000000e+00 -0.00000000e+00\n",
      "  0.00000000e+00  3.97409031e-05 -1.40938016e-01  9.21196891e-16]\n"
     ]
    }
   ],
   "source": [
    "#apply LASSO\n",
    "from sklearn.linear_model import Lasso\n",
    "\n",
    "names = X.columns\n",
    "lasso = Lasso(alpha = 0.1)\n",
    "\n",
    "lasso_coef = lasso.fit(X, y).coef_\n",
    "print(lasso_coef)"
   ]
  },
  {
   "cell_type": "code",
   "execution_count": 99,
   "metadata": {},
   "outputs": [
    {
     "data": {
      "text/plain": [
       "<Figure size 640x480 with 1 Axes>"
      ]
     },
     "metadata": {},
     "output_type": "display_data"
    }
   ],
   "source": [
    "from matplotlib import pyplot as plt\n",
    "plt.plot(range(len(names)), lasso_coef)\n",
    "plt.xticks(range(len(names)), names.values, rotation=60)\n",
    "plt.margins(0.02)\n",
    "plt.show()"
   ]
  },
  {
   "cell_type": "code",
   "execution_count": 100,
   "metadata": {},
   "outputs": [],
   "source": [
    "#so Selected Variables are\n",
    "selected = ['variable10_f', 'variable10_t', 'variable11', 'variable12_f', 'variable1_b', 'variable2', 'variable3', 'variable4_l', 'variable4_u', 'variable7_v', 'variable7_z', 'variable8', 'variable9_f',\n",
    "       'variable9_t']"
   ]
  },
  {
   "cell_type": "markdown",
   "metadata": {},
   "source": [
    "# Start Building the Model using RandomForest Algorithem"
   ]
  },
  {
   "cell_type": "code",
   "execution_count": 101,
   "metadata": {},
   "outputs": [],
   "source": [
    "#import few package for building the model \n",
    "import numpy as np\n",
    "import matplotlib.pyplot as plt\n",
    "from sklearn.neighbors import KNeighborsClassifier\n",
    "from sklearn.metrics import mean_absolute_error\n",
    "from sklearn.model_selection import train_test_split\n",
    "from sklearn.model_selection import cross_val_score"
   ]
  },
  {
   "cell_type": "code",
   "execution_count": 102,
   "metadata": {},
   "outputs": [],
   "source": [
    "#select X_train\n",
    "X_train = X_train[selected]"
   ]
  },
  {
   "cell_type": "code",
   "execution_count": 103,
   "metadata": {},
   "outputs": [],
   "source": [
    "#select X_test\n",
    "X_test = X_test[selected]"
   ]
  },
  {
   "cell_type": "code",
   "execution_count": 104,
   "metadata": {},
   "outputs": [],
   "source": [
    "#imprt few package for building the model \n",
    "from sklearn.ensemble import RandomForestRegressor\n",
    "from sklearn.metrics import mean_absolute_error\n",
    "from sklearn.model_selection import train_test_split"
   ]
  },
  {
   "cell_type": "code",
   "execution_count": 105,
   "metadata": {},
   "outputs": [],
   "source": [
    "# function for comparing different approaches\n",
    "def score_dataset(X_train, X_test, y_train, y_test):\n",
    "    model = RandomForestRegressor(n_estimators=10, max_depth=None,min_samples_split=2, min_samples_leaf=1, min_weight_fraction_leaf=0.0, max_features='auto', max_leaf_nodes=None,bootstrap=True, oob_score=False, n_jobs=1, random_state=None, verbose=0, warm_start=False)\n",
    "    model.fit(X_train, y_train)\n",
    "    preds = model.predict(X_test)\n",
    "    return mean_absolute_error(y_test, preds)"
   ]
  },
  {
   "cell_type": "code",
   "execution_count": 106,
   "metadata": {},
   "outputs": [
    {
     "name": "stdout",
     "output_type": "stream",
     "text": [
      "MAE from Approach 3 (One-Hot Encoding):\n",
      "0.2147208121827411\n"
     ]
    }
   ],
   "source": [
    "#scoring in Mean ansilute error\n",
    "print(\"MAE from Approach 3 (One-Hot Encoding):\") \n",
    "print(score_dataset(X_train, X_test, y_train, y_test))"
   ]
  },
  {
   "cell_type": "markdown",
   "metadata": {},
   "source": [
    "###### Apply Cross Validation on the Model"
   ]
  },
  {
   "cell_type": "code",
   "execution_count": 107,
   "metadata": {},
   "outputs": [
    {
     "data": {
      "text/plain": [
       "RandomForestRegressor(bootstrap=True, criterion='mse', max_depth=None,\n",
       "                      max_features='auto', max_leaf_nodes=None,\n",
       "                      min_impurity_decrease=0.0, min_impurity_split=None,\n",
       "                      min_samples_leaf=1, min_samples_split=2,\n",
       "                      min_weight_fraction_leaf=0.0, n_estimators=10, n_jobs=1,\n",
       "                      oob_score=False, random_state=None, verbose=0,\n",
       "                      warm_start=False)"
      ]
     },
     "execution_count": 107,
     "metadata": {},
     "output_type": "execute_result"
    }
   ],
   "source": [
    "model = RandomForestRegressor(n_estimators=10, max_depth=None,min_samples_split=2, min_samples_leaf=1, min_weight_fraction_leaf=0.0, max_features='auto', max_leaf_nodes=None,bootstrap=True, oob_score=False, n_jobs=1, random_state=None, verbose=0, warm_start=False)\n",
    "model.fit(X_train, y_train)"
   ]
  },
  {
   "cell_type": "code",
   "execution_count": 108,
   "metadata": {},
   "outputs": [
    {
     "name": "stdout",
     "output_type": "stream",
     "text": [
      "[0.08905109 0.10147059 0.08308824 0.16323529 0.35441176]\n"
     ]
    }
   ],
   "source": [
    "#apply CV in KNN Model and score the model by mean_absolute_error\n",
    "cv_scores = -1 * cross_val_score(model, X, y, cv = 5, scoring='neg_mean_absolute_error')\n",
    "print(cv_scores)"
   ]
  },
  {
   "cell_type": "code",
   "execution_count": 109,
   "metadata": {},
   "outputs": [
    {
     "name": "stdout",
     "output_type": "stream",
     "text": [
      "0.15825139544869044\n"
     ]
    }
   ],
   "source": [
    "#get the mean of scores of the 5 folds\n",
    "print(np.mean(cv_scores))"
   ]
  },
  {
   "cell_type": "markdown",
   "metadata": {},
   "source": [
    "###### so we got from Random forest CV 0.16 Mean Abilute Error"
   ]
  },
  {
   "cell_type": "markdown",
   "metadata": {},
   "source": [
    "# Start building the model by K Nearest Knighbor 'KNN'"
   ]
  },
  {
   "cell_type": "markdown",
   "metadata": {},
   "source": [
    "### first:make hyperparameter tuning to choose the 'K' neighbors"
   ]
  },
  {
   "cell_type": "code",
   "execution_count": 110,
   "metadata": {},
   "outputs": [],
   "source": [
    "# set range\n",
    "neighbors = np.arange(1, 12)"
   ]
  },
  {
   "cell_type": "code",
   "execution_count": 111,
   "metadata": {},
   "outputs": [],
   "source": [
    "#set factors\n",
    "train_accuracy = np.empty(len(neighbors))\n",
    "test_accuracy = np.empty(len(neighbors))   "
   ]
  },
  {
   "cell_type": "code",
   "execution_count": 112,
   "metadata": {},
   "outputs": [],
   "source": [
    "for i, k in enumerate(neighbors):\n",
    "    knn = KNeighborsClassifier(n_neighbors = k)\n",
    "    knn.fit(X_train, y_train)\n",
    "    train_accuracy[i] = knn.score(X_train, y_train)\n",
    "    test_accuracy[i] = knn.score(X_test, y_test)"
   ]
  },
  {
   "cell_type": "code",
   "execution_count": 113,
   "metadata": {},
   "outputs": [
    {
     "data": {
      "image/png": "[encoded data removed]",
      "text/plain": [
       "<Figure size 432x288 with 1 Axes>"
      ]
     },
     "metadata": {
      "needs_background": "light"
     },
     "output_type": "display_data"
    }
   ],
   "source": [
    "#plot\n",
    "plt.title('K_NN varying number of Neighbors')\n",
    "plt.plot(neighbors, test_accuracy, label = 'Testing Acuuracy')\n",
    "plt.plot(neighbors, train_accuracy, label = 'Training Acuuracy')\n",
    "plt.legend()\n",
    "plt.xlabel('Number of neighbors')\n",
    "plt.ylabel('Accuracy')\n",
    "plt.show()"
   ]
  },
  {
   "cell_type": "code",
   "execution_count": 114,
   "metadata": {},
   "outputs": [],
   "source": [
    "# 6 is the best"
   ]
  },
  {
   "cell_type": "markdown",
   "metadata": {},
   "source": [
    "### second: building the model "
   ]
  },
  {
   "cell_type": "code",
   "execution_count": 115,
   "metadata": {},
   "outputs": [],
   "source": [
    "#set n_neighbors\n",
    "knn = KNeighborsClassifier(n_neighbors = 6)"
   ]
  },
  {
   "cell_type": "code",
   "execution_count": 116,
   "metadata": {},
   "outputs": [
    {
     "data": {
      "text/plain": [
       "KNeighborsClassifier(algorithm='auto', leaf_size=30, metric='minkowski',\n",
       "                     metric_params=None, n_jobs=None, n_neighbors=6, p=2,\n",
       "                     weights='uniform')"
      ]
     },
     "execution_count": 116,
     "metadata": {},
     "output_type": "execute_result"
    }
   ],
   "source": [
    "#fit the Model\n",
    "knn.fit(X_train,y_train)"
   ]
  },
  {
   "cell_type": "markdown",
   "metadata": {},
   "source": [
    "### Apply Cross Validation"
   ]
  },
  {
   "cell_type": "code",
   "execution_count": 117,
   "metadata": {},
   "outputs": [
    {
     "data": {
      "text/plain": [
       "sklearn.ensemble.forest.RandomForestRegressor"
      ]
     },
     "execution_count": 117,
     "metadata": {},
     "output_type": "execute_result"
    }
   ],
   "source": [
    "score_dataset\n",
    "RandomForestRegressor"
   ]
  },
  {
   "cell_type": "code",
   "execution_count": 118,
   "metadata": {},
   "outputs": [
    {
     "name": "stdout",
     "output_type": "stream",
     "text": [
      "[0.32846715 0.41605839 0.37956204 0.36296296 0.41481481]\n"
     ]
    }
   ],
   "source": [
    "#apply CV in KNN Model and score the model by mean_absolute_error\n",
    "cv_scores = -1 * cross_val_score(knn, X, y, cv = 5, scoring='neg_mean_absolute_error')\n",
    "print(cv_scores)"
   ]
  },
  {
   "cell_type": "code",
   "execution_count": 119,
   "metadata": {},
   "outputs": [
    {
     "name": "stdout",
     "output_type": "stream",
     "text": [
      "0.3803730738037307\n"
     ]
    }
   ],
   "source": [
    "#get the mean of scores of the 5 folds\n",
    "print(np.mean(cv_scores))"
   ]
  },
  {
   "cell_type": "markdown",
   "metadata": {},
   "source": [
    "###### so we got from KNN 0.38 Mean absolute Error"
   ]
  },
  {
   "cell_type": "code",
   "execution_count": 120,
   "metadata": {},
   "outputs": [
    {
     "name": "stdout",
     "output_type": "stream",
     "text": [
      "[0.67153285 0.58394161 0.62043796 0.63703704 0.58518519]\n"
     ]
    }
   ],
   "source": [
    "#apply CV in KNN Model and score the model by Accuracy\n",
    "cv_scores2 =  cross_val_score(knn, X, y, cv = 5, scoring='accuracy')\n",
    "print(cv_scores2)"
   ]
  },
  {
   "cell_type": "code",
   "execution_count": 121,
   "metadata": {},
   "outputs": [
    {
     "name": "stdout",
     "output_type": "stream",
     "text": [
      "0.6196269261962691\n"
     ]
    }
   ],
   "source": [
    "#get their mean\n",
    "print(np.mean(cv_scores2))"
   ]
  },
  {
   "cell_type": "markdown",
   "metadata": {},
   "source": [
    "### Clean the code using Pipeline technique"
   ]
  },
  {
   "cell_type": "code",
   "execution_count": 122,
   "metadata": {},
   "outputs": [
    {
     "data": {
      "text/plain": [
       "Pipeline(memory=None,\n",
       "         steps=[('preprocessor',\n",
       "                 SimpleImputer(add_indicator=False, copy=True, fill_value=None,\n",
       "                               missing_values=nan, strategy='mean',\n",
       "                               verbose=0)),\n",
       "                ('model',\n",
       "                 KNeighborsClassifier(algorithm='auto', leaf_size=30,\n",
       "                                      metric='minkowski', metric_params=None,\n",
       "                                      n_jobs=None, n_neighbors=3, p=2,\n",
       "                                      weights='uniform'))],\n",
       "         verbose=False)"
      ]
     },
     "execution_count": 122,
     "metadata": {},
     "output_type": "execute_result"
    }
   ],
   "source": [
    "# import packages\n",
    "from sklearn.ensemble import RandomForestRegressor\n",
    "from sklearn.pipeline import Pipeline\n",
    "from sklearn.impute import SimpleImputer\n",
    "\n",
    "#creat pipeline\n",
    "my_pipeline = Pipeline(steps=[('preprocessor', SimpleImputer()),\n",
    "                              ('model', KNeighborsClassifier(n_neighbors = 3))\n",
    "                             ])\n",
    "# fitting\n",
    "my_pipeline.fit(X_train, y_train)"
   ]
  },
  {
   "cell_type": "code",
   "execution_count": 123,
   "metadata": {},
   "outputs": [
    {
     "name": "stdout",
     "output_type": "stream",
     "text": [
      "MSE for 5 folds are: [0.34782609 0.39130435 0.43478261 0.5        0.38235294 0.45588235\n",
      " 0.36764706 0.32352941 0.37313433 0.43283582]\n",
      "Average(MSE of 5 fold) is: 0.40092949574378745\n",
      "RMSE: 0.6319221204292621\n"
     ]
    }
   ],
   "source": [
    "# Apply cross validation\n",
    "cv_scores =  -1 * cross_val_score(my_pipeline, X, y, cv = 10, scoring='neg_mean_squared_error')\n",
    "print(\"MSE for 5 folds are:\" , cv_scores)\n",
    "print(\"Average(MSE of 5 fold) is:\", np.mean(cv_scores))\n",
    "print(\"RMSE:\" , np.mean(np.sqrt(cv_scores)))"
   ]
  },
  {
   "cell_type": "markdown",
   "metadata": {},
   "source": [
    "# Extra"
   ]
  },
  {
   "cell_type": "markdown",
   "metadata": {},
   "source": [
    "# Exploratory Data analysis"
   ]
  },
  {
   "cell_type": "code",
   "execution_count": 124,
   "metadata": {},
   "outputs": [
    {
     "data": {
      "text/html": [
       "<div>\n",
       "<style scoped>\n",
       "    .dataframe tbody tr th:only-of-type {\n",
       "        vertical-align: middle;\n",
       "    }\n",
       "\n",
       "    .dataframe tbody tr th {\n",
       "        vertical-align: top;\n",
       "    }\n",
       "\n",
       "    .dataframe thead th {\n",
       "        text-align: right;\n",
       "    }\n",
       "</style>\n",
       "<table border=\"1\" class=\"dataframe\">\n",
       "  <thead>\n",
       "    <tr style=\"text-align: right;\">\n",
       "      <th></th>\n",
       "      <th>variable2</th>\n",
       "      <th>variable3</th>\n",
       "      <th>variable8</th>\n",
       "      <th>variable11</th>\n",
       "      <th>variable14</th>\n",
       "      <th>variable15</th>\n",
       "      <th>variable17</th>\n",
       "      <th>variable19</th>\n",
       "    </tr>\n",
       "  </thead>\n",
       "  <tbody>\n",
       "    <tr>\n",
       "      <td>variable2</td>\n",
       "      <td>1.000000</td>\n",
       "      <td>0.049577</td>\n",
       "      <td>0.084584</td>\n",
       "      <td>0.118123</td>\n",
       "      <td>-0.046082</td>\n",
       "      <td>-0.008792</td>\n",
       "      <td>-0.046082</td>\n",
       "      <td>0.039066</td>\n",
       "    </tr>\n",
       "    <tr>\n",
       "      <td>variable3</td>\n",
       "      <td>0.049577</td>\n",
       "      <td>1.000000</td>\n",
       "      <td>0.144606</td>\n",
       "      <td>0.001898</td>\n",
       "      <td>0.001510</td>\n",
       "      <td>-0.037398</td>\n",
       "      <td>0.001510</td>\n",
       "      <td>0.042059</td>\n",
       "    </tr>\n",
       "    <tr>\n",
       "      <td>variable8</td>\n",
       "      <td>0.084584</td>\n",
       "      <td>0.144606</td>\n",
       "      <td>1.000000</td>\n",
       "      <td>0.109457</td>\n",
       "      <td>-0.009933</td>\n",
       "      <td>-0.020944</td>\n",
       "      <td>-0.009933</td>\n",
       "      <td>0.170413</td>\n",
       "    </tr>\n",
       "    <tr>\n",
       "      <td>variable11</td>\n",
       "      <td>0.118123</td>\n",
       "      <td>0.001898</td>\n",
       "      <td>0.109457</td>\n",
       "      <td>1.000000</td>\n",
       "      <td>-0.135204</td>\n",
       "      <td>0.052511</td>\n",
       "      <td>-0.135204</td>\n",
       "      <td>0.388949</td>\n",
       "    </tr>\n",
       "    <tr>\n",
       "      <td>variable14</td>\n",
       "      <td>-0.046082</td>\n",
       "      <td>0.001510</td>\n",
       "      <td>-0.009933</td>\n",
       "      <td>-0.135204</td>\n",
       "      <td>1.000000</td>\n",
       "      <td>0.091876</td>\n",
       "      <td>1.000000</td>\n",
       "      <td>-0.097215</td>\n",
       "    </tr>\n",
       "    <tr>\n",
       "      <td>variable15</td>\n",
       "      <td>-0.008792</td>\n",
       "      <td>-0.037398</td>\n",
       "      <td>-0.020944</td>\n",
       "      <td>0.052511</td>\n",
       "      <td>0.091876</td>\n",
       "      <td>1.000000</td>\n",
       "      <td>0.091876</td>\n",
       "      <td>0.183136</td>\n",
       "    </tr>\n",
       "    <tr>\n",
       "      <td>variable17</td>\n",
       "      <td>-0.046082</td>\n",
       "      <td>0.001510</td>\n",
       "      <td>-0.009933</td>\n",
       "      <td>-0.135204</td>\n",
       "      <td>1.000000</td>\n",
       "      <td>0.091876</td>\n",
       "      <td>1.000000</td>\n",
       "      <td>-0.097215</td>\n",
       "    </tr>\n",
       "    <tr>\n",
       "      <td>variable19</td>\n",
       "      <td>0.039066</td>\n",
       "      <td>0.042059</td>\n",
       "      <td>0.170413</td>\n",
       "      <td>0.388949</td>\n",
       "      <td>-0.097215</td>\n",
       "      <td>0.183136</td>\n",
       "      <td>-0.097215</td>\n",
       "      <td>1.000000</td>\n",
       "    </tr>\n",
       "  </tbody>\n",
       "</table>\n",
       "</div>"
      ],
      "text/plain": [
       "            variable2  variable3  variable8  variable11  variable14  \\\n",
       "variable2    1.000000   0.049577   0.084584    0.118123   -0.046082   \n",
       "variable3    0.049577   1.000000   0.144606    0.001898    0.001510   \n",
       "variable8    0.084584   0.144606   1.000000    0.109457   -0.009933   \n",
       "variable11   0.118123   0.001898   0.109457    1.000000   -0.135204   \n",
       "variable14  -0.046082   0.001510  -0.009933   -0.135204    1.000000   \n",
       "variable15  -0.008792  -0.037398  -0.020944    0.052511    0.091876   \n",
       "variable17  -0.046082   0.001510  -0.009933   -0.135204    1.000000   \n",
       "variable19   0.039066   0.042059   0.170413    0.388949   -0.097215   \n",
       "\n",
       "            variable15  variable17  variable19  \n",
       "variable2    -0.008792   -0.046082    0.039066  \n",
       "variable3    -0.037398    0.001510    0.042059  \n",
       "variable8    -0.020944   -0.009933    0.170413  \n",
       "variable11    0.052511   -0.135204    0.388949  \n",
       "variable14    0.091876    1.000000   -0.097215  \n",
       "variable15    1.000000    0.091876    0.183136  \n",
       "variable17    0.091876    1.000000   -0.097215  \n",
       "variable19    0.183136   -0.097215    1.000000  "
      ]
     },
     "execution_count": 124,
     "metadata": {},
     "output_type": "execute_result"
    }
   ],
   "source": [
    "#Spearman matrix\n",
    "corr = cleaned_train.corr()\n",
    "corr"
   ]
  },
  {
   "cell_type": "code",
   "execution_count": 125,
   "metadata": {},
   "outputs": [
    {
     "data": {
      "image/png": "[encoded data removed]",
      "text/plain": [
       "<Figure size 432x288 with 2 Axes>"
      ]
     },
     "metadata": {
      "needs_background": "light"
     },
     "output_type": "display_data"
    }
   ],
   "source": [
    "import seaborn as sns\n",
    "ax = sns.heatmap(\n",
    "    corr, \n",
    "    vmin=-1, vmax=1, center=0,\n",
    "    cmap=sns.diverging_palette(20, 220, n=200),\n",
    "    square=True\n",
    ")"
   ]
  },
  {
   "cell_type": "code",
   "execution_count": 126,
   "metadata": {},
   "outputs": [],
   "source": [
    "# as shown there is a strong positive Correlation between Variable14 and variable17...etc"
   ]
  },
  {
   "cell_type": "markdown",
   "metadata": {},
   "source": [
    "## see more details in the Exploratory data analysis at this Tableau link"
   ]
  },
  {
   "cell_type": "markdown",
   "metadata": {},
   "source": [
    "https://public.tableau.com/profile/ahmed.hisham.el.sayed.mohamed#!/vizhome/WidebotTask2-BinaryClassificationProblem-FinalEdition/Story1?publish=yes"
   ]
  },
  {
   "cell_type": "code",
   "execution_count": null,
   "metadata": {},
   "outputs": [],
   "source": []
  }
 ],
 "metadata": {
  "kernelspec": {
   "display_name": "Python 3",
   "language": "python",
   "name": "python3"
  },
  "language_info": {
   "codemirror_mode": {
    "name": "ipython",
    "version": 3
   },
   "file_extension": ".py",
   "mimetype": "text/x-python",
   "name": "python",
   "nbconvert_exporter": "python",
   "pygments_lexer": "ipython3",
   "version": "3.7.4"
  }
 },
 "nbformat": 4,
 "nbformat_minor": 2
}
